{
 "cells": [
  {
   "cell_type": "code",
   "execution_count": null,
   "id": "764739e1",
   "metadata": {},
   "outputs": [],
   "source": [
    "neo4j_url=%env NEO4J_URL\n",
    "\n",
    "%reload_ext cypher\n",
    "%config CypherMagic.uri=neo4j_url + \"/db/data\""
   ]
  },
  {
   "cell_type": "markdown",
   "id": "b73a045d",
   "metadata": {},
   "source": [
    "# Identifying hot spots by change frequency with Software Analytics"
   ]
  },
  {
   "cell_type": "markdown",
   "id": "017ca315",
   "metadata": {},
   "source": [
    "## Question"
   ]
  },
  {
   "cell_type": "markdown",
   "id": "4702fa62",
   "metadata": {},
   "source": [
    "<center>What parts of the code are changed the most?</center>"
   ]
  },
  {
   "cell_type": "markdown",
   "id": "7f748621",
   "metadata": {},
   "source": [
    "## Data Sources"
   ]
  },
  {
   "cell_type": "markdown",
   "id": "020e27e8",
   "metadata": {},
   "source": [
    "<center><i>Which data can possibly answer our question? What information do we need?</i></center>\n",
    "\n",
    "* Java structures of the CWA-Server scanned by jQAssistant and available in Neo4j\n",
    "* Git history of the CWA-Server scanned by jQAssistant and available in Neo4j"
   ]
  },
  {
   "cell_type": "markdown",
   "id": "d15adf17",
   "metadata": {},
   "source": [
    "## Heuristics"
   ]
  },
  {
   "cell_type": "markdown",
   "id": "7857dac8",
   "metadata": {},
   "source": [
    "<center><i>Which assumptions do we want to make to simplify the answer to our question?</i></center>\n",
    "\n",
    "* Merge commits are excluded in the analysis\n",
    "* Each commit of a file counts as one change no matter the number of code that was changed\n",
    "* Only Java classes are considered in the analysis\n",
    "* Test classes are excluded from this analysis"
   ]
  },
  {
   "cell_type": "markdown",
   "id": "c204c5b0",
   "metadata": {},
   "source": [
    "## Validation"
   ]
  },
  {
   "cell_type": "markdown",
   "id": "02cbf08a",
   "metadata": {},
   "source": [
    "<center><i>What results do we expect from our analysis, how are they reviewed and presented in an understandable way?</i></center>\n",
    "\n",
    "* Tabular overview of the Top-20 most changed classes\n",
    "* Graphical overview of the CWA-Server showing the number of changes per class"
   ]
  },
  {
   "cell_type": "markdown",
   "id": "2f7ad8af",
   "metadata": {},
   "source": [
    "## Implementation"
   ]
  },
  {
   "cell_type": "markdown",
   "id": "d0cce988",
   "metadata": {},
   "source": [
    "<center><i>How can we implement the analysis step by step and in a comprehensible way?</i></center>\n",
    "\n",
    "* Query which counts the number of commits per Java file \n",
    "    * to be stored in a variable (commitsPerType) for later visualizing\n",
    "* Query which creates a hierarchy of packages and types including the number of commits per type\n",
    "    * to be stored in a variable (packageTress) for later visualizing"
   ]
  },
  {
   "cell_type": "code",
   "execution_count": null,
   "id": "e9e7de38",
   "metadata": {},
   "outputs": [],
   "source": [
    "commitsPerType = %cypher MATCH (:Main:Artifact)-[:CONTAINS]->(t:Type:Java), \\\n",
    "                               (t)-[:HAS_SOURCE]->(f:Git:File), \\\n",
    "                               (c:Git:Commit)-[:CONTAINS_CHANGE]->()-[:MODIFIES]->(f) \\\n",
    "                         WHERE NOT ()-[:DECLARES]->(t) \\\n",
    "                         RETURN t.fqn AS Type, t.name AS SimpleName, count(c) AS Commits \\\n",
    "                         ORDER BY Commits Desc \\\n",
    "                         LIMIT 20"
   ]
  },
  {
   "cell_type": "code",
   "execution_count": null,
   "id": "be3b87a2",
   "metadata": {},
   "outputs": [],
   "source": [
    "packageTree = %cypher MATCH (:Main:Artifact)-[:CONTAINS]->(e:Java) \\\n",
    "                      WHERE (e:Type OR e:Package) AND e.fqn STARTS WITH \"app.coronawarn.server\" \\\n",
    "                            AND NOT ()-[:DECLARES]->(e) \\\n",
    "                      OPTIONAL MATCH (e)-[:HAS_SOURCE]->(source:Git:File), \\\n",
    "                                     (c:Git:Commit)-[:CONTAINS_CHANGE]->()-[:MODIFIES]->(source) \\\n",
    "                      WITH e, count(c) AS commits \\\n",
    "                      OPTIONAL MATCH (e)-[:DECLARES]->(method:Method) \\\n",
    "                      WITH e, commits, sum(method.effectiveLineCount) AS size \\\n",
    "                      OPTIONAL MATCH (parent:Package)-[:CONTAINS]->(e) \\\n",
    "                      WITH e, parent, commits, size \\\n",
    "                      RETURN DISTINCT e.fqn as Element, parent.fqn as Parent, commits as Size, commits as Color                                    "
   ]
  },
  {
   "cell_type": "markdown",
   "id": "f00fe1a9",
   "metadata": {},
   "source": [
    "## Results"
   ]
  },
  {
   "cell_type": "code",
   "execution_count": null,
   "id": "c7577224",
   "metadata": {},
   "outputs": [],
   "source": [
    "import pandas as pd \n",
    "import plotly.express as px"
   ]
  },
  {
   "cell_type": "markdown",
   "id": "d84479cc",
   "metadata": {},
   "source": [
    "### Most Changed Java Classes"
   ]
  },
  {
   "cell_type": "code",
   "execution_count": null,
   "id": "70c9758f",
   "metadata": {
    "scrolled": false
   },
   "outputs": [],
   "source": [
    "commitsPerType"
   ]
  },
  {
   "cell_type": "markdown",
   "id": "c89de533",
   "metadata": {},
   "source": [
    "### Pie Chart: Most Changed Java Classes"
   ]
  },
  {
   "cell_type": "code",
   "execution_count": null,
   "id": "b64dae33",
   "metadata": {},
   "outputs": [],
   "source": [
    "df = commitsPerType.get_dataframe()\n",
    "fig = px.pie(df, values='Commits', names='SimpleName', title='Top-20 Commits Per Type')\n",
    "fig.show()"
   ]
  },
  {
   "cell_type": "markdown",
   "id": "4e43455a",
   "metadata": {},
   "source": [
    "### Tree Map: Most Changed Java Classes"
   ]
  },
  {
   "cell_type": "code",
   "execution_count": null,
   "id": "7e8ceb54",
   "metadata": {},
   "outputs": [],
   "source": [
    "df = packageTree.get_dataframe()\n",
    "fig = px.treemap(df, names = 'Element', parents = 'Parent', values = 'Size', color= 'Color')\n",
    "fig.show()"
   ]
  },
  {
   "cell_type": "markdown",
   "id": "0b83b7f4",
   "metadata": {},
   "source": [
    "## Next Steps"
   ]
  },
  {
   "cell_type": "markdown",
   "id": "ce413f55",
   "metadata": {},
   "source": [
    "* Detailed analysis of the identified classes, to answer e.g.:\n",
    "    * Are the classes not following the Separation-of-Concerns principle?\n",
    "    * Are the classes adapters for external systems?\n",
    "    * Are the classes containing complex, error-prone logic?\n",
    "    \n",
    "* Deducing actions to circumvent risks by these classes, e.g.:\n",
    "    * Splitting up the classes\n",
    "    * Refactoring the logic to be less error-prone"
   ]
  }
 ],
 "metadata": {
  "kernelspec": {
   "display_name": "Python 3",
   "language": "python",
   "name": "python3"
  },
  "language_info": {
   "codemirror_mode": {
    "name": "ipython",
    "version": 3
   },
   "file_extension": ".py",
   "mimetype": "text/x-python",
   "name": "python",
   "nbconvert_exporter": "python",
   "pygments_lexer": "ipython3",
   "version": "3.9.4"
  }
 },
 "nbformat": 4,
 "nbformat_minor": 5
}
