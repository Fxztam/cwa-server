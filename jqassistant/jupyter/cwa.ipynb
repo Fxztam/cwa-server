{
 "cells": [
  {
   "cell_type": "markdown",
   "metadata": {},
   "source": [
    "# Example Visualizations\n",
    "\n",
    "This notebook provides example queries and visualizations."
   ]
  },
  {
   "cell_type": "markdown",
   "metadata": {},
   "source": [
    "## Setup\n",
    "The cell below is used to \n",
    "* import required libraries\n",
    "* setting up the connection to the Neo4j database\n",
    "* define the D3 based HTML template for custom visualizations"
   ]
  },
  {
   "cell_type": "code",
   "execution_count": 1,
   "metadata": {},
   "outputs": [
    {
     "data": {
      "application/javascript": [
       "\n",
       "    require.config({ \n",
       "      paths: {\n",
       "        lodash: \"/notebooks/vis/lib/lodash.min\",  \n",
       "        d3: \"/notebooks/vis/lib/d3.v4.min\"\n",
       "      }\n",
       "    })"
      ],
      "text/plain": [
       "<IPython.core.display.Javascript object>"
      ]
     },
     "metadata": {},
     "output_type": "display_data"
    }
   ],
   "source": [
    "import pandas as pd \n",
    "import plotly.express as px\n",
    "import pygal as pg\n",
    "from string import Template\n",
    "from IPython.core.display import display, HTML\n",
    "from IPython.display import HTML, Javascript, display\n",
    "\n",
    "neo4j_url=%env NEO4J_URL\n",
    "\n",
    "%reload_ext cypher\n",
    "%config CypherMagic.uri=neo4j_url + \"/db/data\"\n",
    "\n",
    "def configure_d3():\n",
    "    \"\"\"Tell require where to get d3 from in `require(['d3'])`\"\"\"\n",
    "    display(Javascript(\"\"\"\n",
    "    require.config({ \n",
    "      paths: {\n",
    "        lodash: \"/notebooks/vis/lib/lodash.min\",  \n",
    "        d3: \"/notebooks/vis/lib/d3.v4.min\"\n",
    "      }\n",
    "    })\"\"\"))\n",
    "\n",
    "configure_d3()\n",
    "\n",
    "base_html = \"\"\"\n",
    "<!DOCTYPE html>\n",
    "<html>\n",
    "  <head>\n",
    "  <script type=\"text/javascript\" src=\"/notebooks/vis/lib/svg.jquery.js\"></script>\n",
    "  <script type=\"text/javascript\" src=\"/notebooks/vis/lib/pygal-tooltips.min.js\"\"></script>\n",
    "  </head>\n",
    "  <body>\n",
    "    <figure>\n",
    "      {rendered_chart}\n",
    "    </figure>\n",
    "  </body>\n",
    "</html>\n",
    "\"\"\""
   ]
  },
  {
   "cell_type": "markdown",
   "metadata": {},
   "source": [
    "## Table\n",
    "The simplest visualization is a table, the rows and columns are rendered directly from the result returned by the query."
   ]
  },
  {
   "cell_type": "code",
   "execution_count": 49,
   "metadata": {},
   "outputs": [
    {
     "name": "stdout",
     "output_type": "stream",
     "text": [
      "15 rows affected.\n"
     ]
    },
    {
     "data": {
      "text/html": [
       "<table>\n",
       "    <thead>\n",
       "        <tr>\n",
       "            <th>Artifact</th>\n",
       "            <th>TypesPerArtifact</th>\n",
       "        </tr>\n",
       "    </thead>\n",
       "    <tbody>\n",
       "        <tr>\n",
       "            <td>org.opencwa:persistence:jar:2.2.0-SNAPSHOT</td>\n",
       "            <td>51</td>\n",
       "        </tr>\n",
       "        <tr>\n",
       "            <td>org.opencwa:protocols:jar:2.2.0-SNAPSHOT</td>\n",
       "            <td>426</td>\n",
       "        </tr>\n",
       "        <tr>\n",
       "            <td>org.opencwa:federation:jar:2.2.0-SNAPSHOT</td>\n",
       "            <td>12</td>\n",
       "        </tr>\n",
       "        <tr>\n",
       "            <td>org.opencwa:persistence:test-jar:2.2.0-SNAPSHOT</td>\n",
       "            <td>21</td>\n",
       "        </tr>\n",
       "        <tr>\n",
       "            <td>org.opencwa:federation:test-jar:2.2.0-SNAPSHOT</td>\n",
       "            <td>4</td>\n",
       "        </tr>\n",
       "        <tr>\n",
       "            <td>org.opencwa:submission:jar:2.2.0-SNAPSHOT</td>\n",
       "            <td>34</td>\n",
       "        </tr>\n",
       "        <tr>\n",
       "            <td>org.opencwa:submission:test-jar:2.2.0-SNAPSHOT</td>\n",
       "            <td>30</td>\n",
       "        </tr>\n",
       "        <tr>\n",
       "            <td>org.opencwa:distribution:jar:2.2.0-SNAPSHOT</td>\n",
       "            <td>164</td>\n",
       "        </tr>\n",
       "        <tr>\n",
       "            <td>org.opencwa:distribution:test-jar:2.2.0-SNAPSHOT</td>\n",
       "            <td>106</td>\n",
       "        </tr>\n",
       "        <tr>\n",
       "            <td>org.opencwa:callback:jar:2.2.0-SNAPSHOT</td>\n",
       "            <td>8</td>\n",
       "        </tr>\n",
       "        <tr>\n",
       "            <td>org.opencwa:callback:test-jar:2.2.0-SNAPSHOT</td>\n",
       "            <td>10</td>\n",
       "        </tr>\n",
       "        <tr>\n",
       "            <td>org.opencwa:download:jar:2.2.0-SNAPSHOT</td>\n",
       "            <td>17</td>\n",
       "        </tr>\n",
       "        <tr>\n",
       "            <td>org.opencwa:download:test-jar:2.2.0-SNAPSHOT</td>\n",
       "            <td>23</td>\n",
       "        </tr>\n",
       "        <tr>\n",
       "            <td>org.opencwa:upload:jar:2.2.0-SNAPSHOT</td>\n",
       "            <td>21</td>\n",
       "        </tr>\n",
       "        <tr>\n",
       "            <td>org.opencwa:upload:test-jar:2.2.0-SNAPSHOT</td>\n",
       "            <td>19</td>\n",
       "        </tr>\n",
       "    </tbody>\n",
       "</table>"
      ],
      "text/plain": [
       "[['org.opencwa:persistence:jar:2.2.0-SNAPSHOT', 51],\n",
       " ['org.opencwa:protocols:jar:2.2.0-SNAPSHOT', 426],\n",
       " ['org.opencwa:federation:jar:2.2.0-SNAPSHOT', 12],\n",
       " ['org.opencwa:persistence:test-jar:2.2.0-SNAPSHOT', 21],\n",
       " ['org.opencwa:federation:test-jar:2.2.0-SNAPSHOT', 4],\n",
       " ['org.opencwa:submission:jar:2.2.0-SNAPSHOT', 34],\n",
       " ['org.opencwa:submission:test-jar:2.2.0-SNAPSHOT', 30],\n",
       " ['org.opencwa:distribution:jar:2.2.0-SNAPSHOT', 164],\n",
       " ['org.opencwa:distribution:test-jar:2.2.0-SNAPSHOT', 106],\n",
       " ['org.opencwa:callback:jar:2.2.0-SNAPSHOT', 8],\n",
       " ['org.opencwa:callback:test-jar:2.2.0-SNAPSHOT', 10],\n",
       " ['org.opencwa:download:jar:2.2.0-SNAPSHOT', 17],\n",
       " ['org.opencwa:download:test-jar:2.2.0-SNAPSHOT', 23],\n",
       " ['org.opencwa:upload:jar:2.2.0-SNAPSHOT', 21],\n",
       " ['org.opencwa:upload:test-jar:2.2.0-SNAPSHOT', 19]]"
      ]
     },
     "execution_count": 49,
     "metadata": {},
     "output_type": "execute_result"
    }
   ],
   "source": [
    "%cypher MATCH (a:Artifact)-[:CONTAINS]->(n:Type) RETURN a.fqn as Artifact, count(n) as TypesPerArtifact"
   ]
  },
  {
   "cell_type": "markdown",
   "metadata": {},
   "source": [
    "## Artifacts"
   ]
  },
  {
   "cell_type": "code",
   "execution_count": 62,
   "metadata": {
    "pycharm": {
     "name": "#%%\n"
    }
   },
   "outputs": [
    {
     "name": "stdout",
     "output_type": "stream",
     "text": [
      "8 rows affected.\n"
     ]
    },
    {
     "data": {
      "application/vnd.plotly.v1+json": {
       "config": {
        "plotlyServerURL": "https://plot.ly"
       },
       "data": [
        {
         "domain": {
          "x": [
           0,
           1
          ],
          "y": [
           0,
           1
          ]
         },
         "hovertemplate": "Artifact=%{label}<br>Types=%{value}<extra></extra>",
         "labels": [
          "org.opencwa:persistence:jar:2.2.0-SNAPSHOT",
          "org.opencwa:protocols:jar:2.2.0-SNAPSHOT",
          "org.opencwa:federation:jar:2.2.0-SNAPSHOT",
          "org.opencwa:submission:jar:2.2.0-SNAPSHOT",
          "org.opencwa:distribution:jar:2.2.0-SNAPSHOT",
          "org.opencwa:callback:jar:2.2.0-SNAPSHOT",
          "org.opencwa:download:jar:2.2.0-SNAPSHOT",
          "org.opencwa:upload:jar:2.2.0-SNAPSHOT"
         ],
         "legendgroup": "",
         "name": "",
         "showlegend": true,
         "type": "pie",
         "values": [
          51,
          426,
          12,
          34,
          164,
          8,
          17,
          21
         ]
        }
       ],
       "layout": {
        "legend": {
         "tracegroupgap": 0
        },
        "template": {
         "data": {
          "bar": [
           {
            "error_x": {
             "color": "#2a3f5f"
            },
            "error_y": {
             "color": "#2a3f5f"
            },
            "marker": {
             "line": {
              "color": "#E5ECF6",
              "width": 0.5
             }
            },
            "type": "bar"
           }
          ],
          "barpolar": [
           {
            "marker": {
             "line": {
              "color": "#E5ECF6",
              "width": 0.5
             }
            },
            "type": "barpolar"
           }
          ],
          "carpet": [
           {
            "aaxis": {
             "endlinecolor": "#2a3f5f",
             "gridcolor": "white",
             "linecolor": "white",
             "minorgridcolor": "white",
             "startlinecolor": "#2a3f5f"
            },
            "baxis": {
             "endlinecolor": "#2a3f5f",
             "gridcolor": "white",
             "linecolor": "white",
             "minorgridcolor": "white",
             "startlinecolor": "#2a3f5f"
            },
            "type": "carpet"
           }
          ],
          "choropleth": [
           {
            "colorbar": {
             "outlinewidth": 0,
             "ticks": ""
            },
            "type": "choropleth"
           }
          ],
          "contour": [
           {
            "colorbar": {
             "outlinewidth": 0,
             "ticks": ""
            },
            "colorscale": [
             [
              0,
              "#0d0887"
             ],
             [
              0.1111111111111111,
              "#46039f"
             ],
             [
              0.2222222222222222,
              "#7201a8"
             ],
             [
              0.3333333333333333,
              "#9c179e"
             ],
             [
              0.4444444444444444,
              "#bd3786"
             ],
             [
              0.5555555555555556,
              "#d8576b"
             ],
             [
              0.6666666666666666,
              "#ed7953"
             ],
             [
              0.7777777777777778,
              "#fb9f3a"
             ],
             [
              0.8888888888888888,
              "#fdca26"
             ],
             [
              1,
              "#f0f921"
             ]
            ],
            "type": "contour"
           }
          ],
          "contourcarpet": [
           {
            "colorbar": {
             "outlinewidth": 0,
             "ticks": ""
            },
            "type": "contourcarpet"
           }
          ],
          "heatmap": [
           {
            "colorbar": {
             "outlinewidth": 0,
             "ticks": ""
            },
            "colorscale": [
             [
              0,
              "#0d0887"
             ],
             [
              0.1111111111111111,
              "#46039f"
             ],
             [
              0.2222222222222222,
              "#7201a8"
             ],
             [
              0.3333333333333333,
              "#9c179e"
             ],
             [
              0.4444444444444444,
              "#bd3786"
             ],
             [
              0.5555555555555556,
              "#d8576b"
             ],
             [
              0.6666666666666666,
              "#ed7953"
             ],
             [
              0.7777777777777778,
              "#fb9f3a"
             ],
             [
              0.8888888888888888,
              "#fdca26"
             ],
             [
              1,
              "#f0f921"
             ]
            ],
            "type": "heatmap"
           }
          ],
          "heatmapgl": [
           {
            "colorbar": {
             "outlinewidth": 0,
             "ticks": ""
            },
            "colorscale": [
             [
              0,
              "#0d0887"
             ],
             [
              0.1111111111111111,
              "#46039f"
             ],
             [
              0.2222222222222222,
              "#7201a8"
             ],
             [
              0.3333333333333333,
              "#9c179e"
             ],
             [
              0.4444444444444444,
              "#bd3786"
             ],
             [
              0.5555555555555556,
              "#d8576b"
             ],
             [
              0.6666666666666666,
              "#ed7953"
             ],
             [
              0.7777777777777778,
              "#fb9f3a"
             ],
             [
              0.8888888888888888,
              "#fdca26"
             ],
             [
              1,
              "#f0f921"
             ]
            ],
            "type": "heatmapgl"
           }
          ],
          "histogram": [
           {
            "marker": {
             "colorbar": {
              "outlinewidth": 0,
              "ticks": ""
             }
            },
            "type": "histogram"
           }
          ],
          "histogram2d": [
           {
            "colorbar": {
             "outlinewidth": 0,
             "ticks": ""
            },
            "colorscale": [
             [
              0,
              "#0d0887"
             ],
             [
              0.1111111111111111,
              "#46039f"
             ],
             [
              0.2222222222222222,
              "#7201a8"
             ],
             [
              0.3333333333333333,
              "#9c179e"
             ],
             [
              0.4444444444444444,
              "#bd3786"
             ],
             [
              0.5555555555555556,
              "#d8576b"
             ],
             [
              0.6666666666666666,
              "#ed7953"
             ],
             [
              0.7777777777777778,
              "#fb9f3a"
             ],
             [
              0.8888888888888888,
              "#fdca26"
             ],
             [
              1,
              "#f0f921"
             ]
            ],
            "type": "histogram2d"
           }
          ],
          "histogram2dcontour": [
           {
            "colorbar": {
             "outlinewidth": 0,
             "ticks": ""
            },
            "colorscale": [
             [
              0,
              "#0d0887"
             ],
             [
              0.1111111111111111,
              "#46039f"
             ],
             [
              0.2222222222222222,
              "#7201a8"
             ],
             [
              0.3333333333333333,
              "#9c179e"
             ],
             [
              0.4444444444444444,
              "#bd3786"
             ],
             [
              0.5555555555555556,
              "#d8576b"
             ],
             [
              0.6666666666666666,
              "#ed7953"
             ],
             [
              0.7777777777777778,
              "#fb9f3a"
             ],
             [
              0.8888888888888888,
              "#fdca26"
             ],
             [
              1,
              "#f0f921"
             ]
            ],
            "type": "histogram2dcontour"
           }
          ],
          "mesh3d": [
           {
            "colorbar": {
             "outlinewidth": 0,
             "ticks": ""
            },
            "type": "mesh3d"
           }
          ],
          "parcoords": [
           {
            "line": {
             "colorbar": {
              "outlinewidth": 0,
              "ticks": ""
             }
            },
            "type": "parcoords"
           }
          ],
          "pie": [
           {
            "automargin": true,
            "type": "pie"
           }
          ],
          "scatter": [
           {
            "marker": {
             "colorbar": {
              "outlinewidth": 0,
              "ticks": ""
             }
            },
            "type": "scatter"
           }
          ],
          "scatter3d": [
           {
            "line": {
             "colorbar": {
              "outlinewidth": 0,
              "ticks": ""
             }
            },
            "marker": {
             "colorbar": {
              "outlinewidth": 0,
              "ticks": ""
             }
            },
            "type": "scatter3d"
           }
          ],
          "scattercarpet": [
           {
            "marker": {
             "colorbar": {
              "outlinewidth": 0,
              "ticks": ""
             }
            },
            "type": "scattercarpet"
           }
          ],
          "scattergeo": [
           {
            "marker": {
             "colorbar": {
              "outlinewidth": 0,
              "ticks": ""
             }
            },
            "type": "scattergeo"
           }
          ],
          "scattergl": [
           {
            "marker": {
             "colorbar": {
              "outlinewidth": 0,
              "ticks": ""
             }
            },
            "type": "scattergl"
           }
          ],
          "scattermapbox": [
           {
            "marker": {
             "colorbar": {
              "outlinewidth": 0,
              "ticks": ""
             }
            },
            "type": "scattermapbox"
           }
          ],
          "scatterpolar": [
           {
            "marker": {
             "colorbar": {
              "outlinewidth": 0,
              "ticks": ""
             }
            },
            "type": "scatterpolar"
           }
          ],
          "scatterpolargl": [
           {
            "marker": {
             "colorbar": {
              "outlinewidth": 0,
              "ticks": ""
             }
            },
            "type": "scatterpolargl"
           }
          ],
          "scatterternary": [
           {
            "marker": {
             "colorbar": {
              "outlinewidth": 0,
              "ticks": ""
             }
            },
            "type": "scatterternary"
           }
          ],
          "surface": [
           {
            "colorbar": {
             "outlinewidth": 0,
             "ticks": ""
            },
            "colorscale": [
             [
              0,
              "#0d0887"
             ],
             [
              0.1111111111111111,
              "#46039f"
             ],
             [
              0.2222222222222222,
              "#7201a8"
             ],
             [
              0.3333333333333333,
              "#9c179e"
             ],
             [
              0.4444444444444444,
              "#bd3786"
             ],
             [
              0.5555555555555556,
              "#d8576b"
             ],
             [
              0.6666666666666666,
              "#ed7953"
             ],
             [
              0.7777777777777778,
              "#fb9f3a"
             ],
             [
              0.8888888888888888,
              "#fdca26"
             ],
             [
              1,
              "#f0f921"
             ]
            ],
            "type": "surface"
           }
          ],
          "table": [
           {
            "cells": {
             "fill": {
              "color": "#EBF0F8"
             },
             "line": {
              "color": "white"
             }
            },
            "header": {
             "fill": {
              "color": "#C8D4E3"
             },
             "line": {
              "color": "white"
             }
            },
            "type": "table"
           }
          ]
         },
         "layout": {
          "annotationdefaults": {
           "arrowcolor": "#2a3f5f",
           "arrowhead": 0,
           "arrowwidth": 1
          },
          "autotypenumbers": "strict",
          "coloraxis": {
           "colorbar": {
            "outlinewidth": 0,
            "ticks": ""
           }
          },
          "colorscale": {
           "diverging": [
            [
             0,
             "#8e0152"
            ],
            [
             0.1,
             "#c51b7d"
            ],
            [
             0.2,
             "#de77ae"
            ],
            [
             0.3,
             "#f1b6da"
            ],
            [
             0.4,
             "#fde0ef"
            ],
            [
             0.5,
             "#f7f7f7"
            ],
            [
             0.6,
             "#e6f5d0"
            ],
            [
             0.7,
             "#b8e186"
            ],
            [
             0.8,
             "#7fbc41"
            ],
            [
             0.9,
             "#4d9221"
            ],
            [
             1,
             "#276419"
            ]
           ],
           "sequential": [
            [
             0,
             "#0d0887"
            ],
            [
             0.1111111111111111,
             "#46039f"
            ],
            [
             0.2222222222222222,
             "#7201a8"
            ],
            [
             0.3333333333333333,
             "#9c179e"
            ],
            [
             0.4444444444444444,
             "#bd3786"
            ],
            [
             0.5555555555555556,
             "#d8576b"
            ],
            [
             0.6666666666666666,
             "#ed7953"
            ],
            [
             0.7777777777777778,
             "#fb9f3a"
            ],
            [
             0.8888888888888888,
             "#fdca26"
            ],
            [
             1,
             "#f0f921"
            ]
           ],
           "sequentialminus": [
            [
             0,
             "#0d0887"
            ],
            [
             0.1111111111111111,
             "#46039f"
            ],
            [
             0.2222222222222222,
             "#7201a8"
            ],
            [
             0.3333333333333333,
             "#9c179e"
            ],
            [
             0.4444444444444444,
             "#bd3786"
            ],
            [
             0.5555555555555556,
             "#d8576b"
            ],
            [
             0.6666666666666666,
             "#ed7953"
            ],
            [
             0.7777777777777778,
             "#fb9f3a"
            ],
            [
             0.8888888888888888,
             "#fdca26"
            ],
            [
             1,
             "#f0f921"
            ]
           ]
          },
          "colorway": [
           "#636efa",
           "#EF553B",
           "#00cc96",
           "#ab63fa",
           "#FFA15A",
           "#19d3f3",
           "#FF6692",
           "#B6E880",
           "#FF97FF",
           "#FECB52"
          ],
          "font": {
           "color": "#2a3f5f"
          },
          "geo": {
           "bgcolor": "white",
           "lakecolor": "white",
           "landcolor": "#E5ECF6",
           "showlakes": true,
           "showland": true,
           "subunitcolor": "white"
          },
          "hoverlabel": {
           "align": "left"
          },
          "hovermode": "closest",
          "mapbox": {
           "style": "light"
          },
          "paper_bgcolor": "white",
          "plot_bgcolor": "#E5ECF6",
          "polar": {
           "angularaxis": {
            "gridcolor": "white",
            "linecolor": "white",
            "ticks": ""
           },
           "bgcolor": "#E5ECF6",
           "radialaxis": {
            "gridcolor": "white",
            "linecolor": "white",
            "ticks": ""
           }
          },
          "scene": {
           "xaxis": {
            "backgroundcolor": "#E5ECF6",
            "gridcolor": "white",
            "gridwidth": 2,
            "linecolor": "white",
            "showbackground": true,
            "ticks": "",
            "zerolinecolor": "white"
           },
           "yaxis": {
            "backgroundcolor": "#E5ECF6",
            "gridcolor": "white",
            "gridwidth": 2,
            "linecolor": "white",
            "showbackground": true,
            "ticks": "",
            "zerolinecolor": "white"
           },
           "zaxis": {
            "backgroundcolor": "#E5ECF6",
            "gridcolor": "white",
            "gridwidth": 2,
            "linecolor": "white",
            "showbackground": true,
            "ticks": "",
            "zerolinecolor": "white"
           }
          },
          "shapedefaults": {
           "line": {
            "color": "#2a3f5f"
           }
          },
          "ternary": {
           "aaxis": {
            "gridcolor": "white",
            "linecolor": "white",
            "ticks": ""
           },
           "baxis": {
            "gridcolor": "white",
            "linecolor": "white",
            "ticks": ""
           },
           "bgcolor": "#E5ECF6",
           "caxis": {
            "gridcolor": "white",
            "linecolor": "white",
            "ticks": ""
           }
          },
          "title": {
           "x": 0.05
          },
          "xaxis": {
           "automargin": true,
           "gridcolor": "white",
           "linecolor": "white",
           "ticks": "",
           "title": {
            "standoff": 15
           },
           "zerolinecolor": "white",
           "zerolinewidth": 2
          },
          "yaxis": {
           "automargin": true,
           "gridcolor": "white",
           "linecolor": "white",
           "ticks": "",
           "title": {
            "standoff": 15
           },
           "zerolinecolor": "white",
           "zerolinewidth": 2
          }
         }
        },
        "title": {
         "text": "Artifact Size"
        }
       }
      },
      "text/html": [
       "<div>                            <div id=\"cb2d3e62-0828-43dd-8a78-b9055e59531a\" class=\"plotly-graph-div\" style=\"height:525px; width:100%;\"></div>            <script type=\"text/javascript\">                require([\"plotly\"], function(Plotly) {                    window.PLOTLYENV=window.PLOTLYENV || {};                                    if (document.getElementById(\"cb2d3e62-0828-43dd-8a78-b9055e59531a\")) {                    Plotly.newPlot(                        \"cb2d3e62-0828-43dd-8a78-b9055e59531a\",                        [{\"domain\": {\"x\": [0.0, 1.0], \"y\": [0.0, 1.0]}, \"hovertemplate\": \"Artifact=%{label}<br>Types=%{value}<extra></extra>\", \"labels\": [\"org.opencwa:persistence:jar:2.2.0-SNAPSHOT\", \"org.opencwa:protocols:jar:2.2.0-SNAPSHOT\", \"org.opencwa:federation:jar:2.2.0-SNAPSHOT\", \"org.opencwa:submission:jar:2.2.0-SNAPSHOT\", \"org.opencwa:distribution:jar:2.2.0-SNAPSHOT\", \"org.opencwa:callback:jar:2.2.0-SNAPSHOT\", \"org.opencwa:download:jar:2.2.0-SNAPSHOT\", \"org.opencwa:upload:jar:2.2.0-SNAPSHOT\"], \"legendgroup\": \"\", \"name\": \"\", \"showlegend\": true, \"type\": \"pie\", \"values\": [51, 426, 12, 34, 164, 8, 17, 21]}],                        {\"legend\": {\"tracegroupgap\": 0}, \"template\": {\"data\": {\"bar\": [{\"error_x\": {\"color\": \"#2a3f5f\"}, \"error_y\": {\"color\": \"#2a3f5f\"}, \"marker\": {\"line\": {\"color\": \"#E5ECF6\", \"width\": 0.5}}, \"type\": \"bar\"}], \"barpolar\": [{\"marker\": {\"line\": {\"color\": \"#E5ECF6\", \"width\": 0.5}}, \"type\": \"barpolar\"}], \"carpet\": [{\"aaxis\": {\"endlinecolor\": \"#2a3f5f\", \"gridcolor\": \"white\", \"linecolor\": \"white\", \"minorgridcolor\": \"white\", \"startlinecolor\": \"#2a3f5f\"}, \"baxis\": {\"endlinecolor\": \"#2a3f5f\", \"gridcolor\": \"white\", \"linecolor\": \"white\", \"minorgridcolor\": \"white\", \"startlinecolor\": \"#2a3f5f\"}, \"type\": \"carpet\"}], \"choropleth\": [{\"colorbar\": {\"outlinewidth\": 0, \"ticks\": \"\"}, \"type\": \"choropleth\"}], \"contour\": [{\"colorbar\": {\"outlinewidth\": 0, \"ticks\": \"\"}, \"colorscale\": [[0.0, \"#0d0887\"], [0.1111111111111111, \"#46039f\"], [0.2222222222222222, \"#7201a8\"], [0.3333333333333333, \"#9c179e\"], [0.4444444444444444, \"#bd3786\"], [0.5555555555555556, \"#d8576b\"], [0.6666666666666666, \"#ed7953\"], [0.7777777777777778, \"#fb9f3a\"], [0.8888888888888888, \"#fdca26\"], [1.0, \"#f0f921\"]], \"type\": \"contour\"}], \"contourcarpet\": [{\"colorbar\": {\"outlinewidth\": 0, \"ticks\": \"\"}, \"type\": \"contourcarpet\"}], \"heatmap\": [{\"colorbar\": {\"outlinewidth\": 0, \"ticks\": \"\"}, \"colorscale\": [[0.0, \"#0d0887\"], [0.1111111111111111, \"#46039f\"], [0.2222222222222222, \"#7201a8\"], [0.3333333333333333, \"#9c179e\"], [0.4444444444444444, \"#bd3786\"], [0.5555555555555556, \"#d8576b\"], [0.6666666666666666, \"#ed7953\"], [0.7777777777777778, \"#fb9f3a\"], [0.8888888888888888, \"#fdca26\"], [1.0, \"#f0f921\"]], \"type\": \"heatmap\"}], \"heatmapgl\": [{\"colorbar\": {\"outlinewidth\": 0, \"ticks\": \"\"}, \"colorscale\": [[0.0, \"#0d0887\"], [0.1111111111111111, \"#46039f\"], [0.2222222222222222, \"#7201a8\"], [0.3333333333333333, \"#9c179e\"], [0.4444444444444444, \"#bd3786\"], [0.5555555555555556, \"#d8576b\"], [0.6666666666666666, \"#ed7953\"], [0.7777777777777778, \"#fb9f3a\"], [0.8888888888888888, \"#fdca26\"], [1.0, \"#f0f921\"]], \"type\": \"heatmapgl\"}], \"histogram\": [{\"marker\": {\"colorbar\": {\"outlinewidth\": 0, \"ticks\": \"\"}}, \"type\": \"histogram\"}], \"histogram2d\": [{\"colorbar\": {\"outlinewidth\": 0, \"ticks\": \"\"}, \"colorscale\": [[0.0, \"#0d0887\"], [0.1111111111111111, \"#46039f\"], [0.2222222222222222, \"#7201a8\"], [0.3333333333333333, \"#9c179e\"], [0.4444444444444444, \"#bd3786\"], [0.5555555555555556, \"#d8576b\"], [0.6666666666666666, \"#ed7953\"], [0.7777777777777778, \"#fb9f3a\"], [0.8888888888888888, \"#fdca26\"], [1.0, \"#f0f921\"]], \"type\": \"histogram2d\"}], \"histogram2dcontour\": [{\"colorbar\": {\"outlinewidth\": 0, \"ticks\": \"\"}, \"colorscale\": [[0.0, \"#0d0887\"], [0.1111111111111111, \"#46039f\"], [0.2222222222222222, \"#7201a8\"], [0.3333333333333333, \"#9c179e\"], [0.4444444444444444, \"#bd3786\"], [0.5555555555555556, \"#d8576b\"], [0.6666666666666666, \"#ed7953\"], [0.7777777777777778, \"#fb9f3a\"], [0.8888888888888888, \"#fdca26\"], [1.0, \"#f0f921\"]], \"type\": \"histogram2dcontour\"}], \"mesh3d\": [{\"colorbar\": {\"outlinewidth\": 0, \"ticks\": \"\"}, \"type\": \"mesh3d\"}], \"parcoords\": [{\"line\": {\"colorbar\": {\"outlinewidth\": 0, \"ticks\": \"\"}}, \"type\": \"parcoords\"}], \"pie\": [{\"automargin\": true, \"type\": \"pie\"}], \"scatter\": [{\"marker\": {\"colorbar\": {\"outlinewidth\": 0, \"ticks\": \"\"}}, \"type\": \"scatter\"}], \"scatter3d\": [{\"line\": {\"colorbar\": {\"outlinewidth\": 0, \"ticks\": \"\"}}, \"marker\": {\"colorbar\": {\"outlinewidth\": 0, \"ticks\": \"\"}}, \"type\": \"scatter3d\"}], \"scattercarpet\": [{\"marker\": {\"colorbar\": {\"outlinewidth\": 0, \"ticks\": \"\"}}, \"type\": \"scattercarpet\"}], \"scattergeo\": [{\"marker\": {\"colorbar\": {\"outlinewidth\": 0, \"ticks\": \"\"}}, \"type\": \"scattergeo\"}], \"scattergl\": [{\"marker\": {\"colorbar\": {\"outlinewidth\": 0, \"ticks\": \"\"}}, \"type\": \"scattergl\"}], \"scattermapbox\": [{\"marker\": {\"colorbar\": {\"outlinewidth\": 0, \"ticks\": \"\"}}, \"type\": \"scattermapbox\"}], \"scatterpolar\": [{\"marker\": {\"colorbar\": {\"outlinewidth\": 0, \"ticks\": \"\"}}, \"type\": \"scatterpolar\"}], \"scatterpolargl\": [{\"marker\": {\"colorbar\": {\"outlinewidth\": 0, \"ticks\": \"\"}}, \"type\": \"scatterpolargl\"}], \"scatterternary\": [{\"marker\": {\"colorbar\": {\"outlinewidth\": 0, \"ticks\": \"\"}}, \"type\": \"scatterternary\"}], \"surface\": [{\"colorbar\": {\"outlinewidth\": 0, \"ticks\": \"\"}, \"colorscale\": [[0.0, \"#0d0887\"], [0.1111111111111111, \"#46039f\"], [0.2222222222222222, \"#7201a8\"], [0.3333333333333333, \"#9c179e\"], [0.4444444444444444, \"#bd3786\"], [0.5555555555555556, \"#d8576b\"], [0.6666666666666666, \"#ed7953\"], [0.7777777777777778, \"#fb9f3a\"], [0.8888888888888888, \"#fdca26\"], [1.0, \"#f0f921\"]], \"type\": \"surface\"}], \"table\": [{\"cells\": {\"fill\": {\"color\": \"#EBF0F8\"}, \"line\": {\"color\": \"white\"}}, \"header\": {\"fill\": {\"color\": \"#C8D4E3\"}, \"line\": {\"color\": \"white\"}}, \"type\": \"table\"}]}, \"layout\": {\"annotationdefaults\": {\"arrowcolor\": \"#2a3f5f\", \"arrowhead\": 0, \"arrowwidth\": 1}, \"autotypenumbers\": \"strict\", \"coloraxis\": {\"colorbar\": {\"outlinewidth\": 0, \"ticks\": \"\"}}, \"colorscale\": {\"diverging\": [[0, \"#8e0152\"], [0.1, \"#c51b7d\"], [0.2, \"#de77ae\"], [0.3, \"#f1b6da\"], [0.4, \"#fde0ef\"], [0.5, \"#f7f7f7\"], [0.6, \"#e6f5d0\"], [0.7, \"#b8e186\"], [0.8, \"#7fbc41\"], [0.9, \"#4d9221\"], [1, \"#276419\"]], \"sequential\": [[0.0, \"#0d0887\"], [0.1111111111111111, \"#46039f\"], [0.2222222222222222, \"#7201a8\"], [0.3333333333333333, \"#9c179e\"], [0.4444444444444444, \"#bd3786\"], [0.5555555555555556, \"#d8576b\"], [0.6666666666666666, \"#ed7953\"], [0.7777777777777778, \"#fb9f3a\"], [0.8888888888888888, \"#fdca26\"], [1.0, \"#f0f921\"]], \"sequentialminus\": [[0.0, \"#0d0887\"], [0.1111111111111111, \"#46039f\"], [0.2222222222222222, \"#7201a8\"], [0.3333333333333333, \"#9c179e\"], [0.4444444444444444, \"#bd3786\"], [0.5555555555555556, \"#d8576b\"], [0.6666666666666666, \"#ed7953\"], [0.7777777777777778, \"#fb9f3a\"], [0.8888888888888888, \"#fdca26\"], [1.0, \"#f0f921\"]]}, \"colorway\": [\"#636efa\", \"#EF553B\", \"#00cc96\", \"#ab63fa\", \"#FFA15A\", \"#19d3f3\", \"#FF6692\", \"#B6E880\", \"#FF97FF\", \"#FECB52\"], \"font\": {\"color\": \"#2a3f5f\"}, \"geo\": {\"bgcolor\": \"white\", \"lakecolor\": \"white\", \"landcolor\": \"#E5ECF6\", \"showlakes\": true, \"showland\": true, \"subunitcolor\": \"white\"}, \"hoverlabel\": {\"align\": \"left\"}, \"hovermode\": \"closest\", \"mapbox\": {\"style\": \"light\"}, \"paper_bgcolor\": \"white\", \"plot_bgcolor\": \"#E5ECF6\", \"polar\": {\"angularaxis\": {\"gridcolor\": \"white\", \"linecolor\": \"white\", \"ticks\": \"\"}, \"bgcolor\": \"#E5ECF6\", \"radialaxis\": {\"gridcolor\": \"white\", \"linecolor\": \"white\", \"ticks\": \"\"}}, \"scene\": {\"xaxis\": {\"backgroundcolor\": \"#E5ECF6\", \"gridcolor\": \"white\", \"gridwidth\": 2, \"linecolor\": \"white\", \"showbackground\": true, \"ticks\": \"\", \"zerolinecolor\": \"white\"}, \"yaxis\": {\"backgroundcolor\": \"#E5ECF6\", \"gridcolor\": \"white\", \"gridwidth\": 2, \"linecolor\": \"white\", \"showbackground\": true, \"ticks\": \"\", \"zerolinecolor\": \"white\"}, \"zaxis\": {\"backgroundcolor\": \"#E5ECF6\", \"gridcolor\": \"white\", \"gridwidth\": 2, \"linecolor\": \"white\", \"showbackground\": true, \"ticks\": \"\", \"zerolinecolor\": \"white\"}}, \"shapedefaults\": {\"line\": {\"color\": \"#2a3f5f\"}}, \"ternary\": {\"aaxis\": {\"gridcolor\": \"white\", \"linecolor\": \"white\", \"ticks\": \"\"}, \"baxis\": {\"gridcolor\": \"white\", \"linecolor\": \"white\", \"ticks\": \"\"}, \"bgcolor\": \"#E5ECF6\", \"caxis\": {\"gridcolor\": \"white\", \"linecolor\": \"white\", \"ticks\": \"\"}}, \"title\": {\"x\": 0.05}, \"xaxis\": {\"automargin\": true, \"gridcolor\": \"white\", \"linecolor\": \"white\", \"ticks\": \"\", \"title\": {\"standoff\": 15}, \"zerolinecolor\": \"white\", \"zerolinewidth\": 2}, \"yaxis\": {\"automargin\": true, \"gridcolor\": \"white\", \"linecolor\": \"white\", \"ticks\": \"\", \"title\": {\"standoff\": 15}, \"zerolinecolor\": \"white\", \"zerolinewidth\": 2}}}, \"title\": {\"text\": \"Artifact Size\"}},                        {\"responsive\": true}                    ).then(function(){\n",
       "                            \n",
       "var gd = document.getElementById('cb2d3e62-0828-43dd-8a78-b9055e59531a');\n",
       "var x = new MutationObserver(function (mutations, observer) {{\n",
       "        var display = window.getComputedStyle(gd).display;\n",
       "        if (!display || display === 'none') {{\n",
       "            console.log([gd, 'removed!']);\n",
       "            Plotly.purge(gd);\n",
       "            observer.disconnect();\n",
       "        }}\n",
       "}});\n",
       "\n",
       "// Listen for the removal of the full notebook cells\n",
       "var notebookContainer = gd.closest('#notebook-container');\n",
       "if (notebookContainer) {{\n",
       "    x.observe(notebookContainer, {childList: true});\n",
       "}}\n",
       "\n",
       "// Listen for the clearing of the current output cell\n",
       "var outputEl = gd.closest('.output');\n",
       "if (outputEl) {{\n",
       "    x.observe(outputEl, {childList: true});\n",
       "}}\n",
       "\n",
       "                        })                };                });            </script>        </div>"
      ]
     },
     "metadata": {},
     "output_type": "display_data"
    }
   ],
   "source": [
    "packageSize = %cypher MATCH (artifact:Main:Artifact)-[:CONTAINS]->(type:Type) \\\n",
    "                      RETURN artifact.fqn as Artifact, count(DISTINCT type) AS Types\n",
    "\n",
    "df = packageSize.get_dataframe()\n",
    "fig = px.pie(df, names='Artifact', values='Types', title='Artifact Size')\n",
    "fig.show()"
   ]
  },
  {
   "cell_type": "markdown",
   "metadata": {},
   "source": [
    "## Artifact Dependencies"
   ]
  },
  {
   "cell_type": "code",
   "execution_count": 52,
   "metadata": {},
   "outputs": [
    {
     "name": "stdout",
     "output_type": "stream",
     "text": [
      "15 rows affected.\n"
     ]
    },
    {
     "data": {
      "text/html": [
       "<script type=\"text/javascript\" src=\"/notebooks/vis/chord/chord-mapper.js\"></script><link rel=\"stylesheet\" type=\"text/css\" href=\"/notebooks/vis/chord/chord-diagram.css\"><div id=\"tooltip\"></div><div id =\"module-chord-diagram\"></div><script>require(['d3'], function (d3) {    var data = \"Source,Target,X_Count\\ncallback,federation,2\\ncallback,persistence,4\\ndistribution,persistence,38\\ndistribution,protocols,170\\ndownload,federation,1\\ndownload,persistence,15\\ndownload,protocols,8\\nfederation,protocols,2\\npersistence,protocols,21\\nsubmission,federation,1\\nsubmission,persistence,21\\nsubmission,protocols,17\\nupload,federation,5\\nupload,persistence,21\\nupload,protocols,18\\n\";    var csvData = d3.csvParse(data);    var mpr = chordMpr(csvData);    mpr      .addValuesToMap(\"Source\")      .addValuesToMap(\"Target\")      .setFilter(function (row, a, b) {        return (row.Source === a.name && row.Target === b.name)      })      .setAccessor(function (recs, a, b) {        if (!recs[0]) return 0;        return +recs[0].X_Count;      });    drawChords(mpr.getMatrix(), mpr.getMap());    function drawChords (matrix, mmap) {    var w = 800, h = 800, r1 = h / 2 - 50, r0 = r1 - 100;    var chord = d3.chord()        .padAngle(.02)        .sortSubgroups(d3.descending)        .sortChords(d3.descending);    var arc = d3.arc()        .innerRadius(r0)        .outerRadius(r0 + 20);    var ribbon = d3.ribbon()        .radius(r0);        var svg = d3.select(\"#module-chord-diagram\").append(\"svg:svg\")        .attr(\"width\", w)        .attr(\"height\", h)        .append(\"svg:g\")        .attr(\"id\", \"circle\")        .attr(\"transform\", \"translate(\" + w / 2 + \",\" + h / 2 + \")\")        .datum(chord(matrix));    svg.append(\"circle\")        .attr(\"r\", r0 + 20);    var rdr = chordRdr(matrix, mmap);    var g = svg.selectAll(\"g.group\")        .data(function(chords) {            return chords.groups;        })        .enter().append(\"svg:g\")      .attr(\"class\", \"group\")      .on(\"mouseover\", mouseover)      .on(\"mouseout\", function (d) { d3.select(\"#tooltip\").style(\"visibility\", \"hidden\") });    var colors = d3.scaleOrdinal(d3.schemeCategory20);    g.append(\"svg:path\")        .style(\"stroke\", \"black\")        .style(\"fill\", function(d, i) { return colors(i); })        .attr(\"d\", arc);    g.append(\"svg:text\")        .each(function(d) { d.angle = (d.startAngle + d.endAngle) / 2; })        .attr(\"dy\", \".35em\")        .style(\"font-family\", \"helvetica, arial, sans-serif\")        .style(\"font-size\", \"1.3em\")        .attr(\"text-anchor\", function(d) { return d.angle > Math.PI ? \"end\" : null; })        .attr(\"transform\", function(d) {          return \"rotate(\" + (d.angle * 180 / Math.PI - 90) + \")\"              + \"translate(\" + (r0 + 26) + \")\"              + (d.angle > Math.PI ? \"rotate(180)\" : \"\");        })        .text(function(d) { return rdr(d).gname; });    var chordPaths = svg.selectAll(\"path.chord\")        .data(function(chords) {          return chords;        })        .enter().append(\"svg:path\")        .attr(\"class\", \"chord\")        .style(\"stroke\", function(d, i) { return colors(i); })        .style(\"fill\", function(d, i) { return colors(d.source.index); })        .attr(\"d\", ribbon.radius(r0))        .on(\"mouseover\", function (d) {            d3.select(\"#tooltip\")              .style(\"visibility\", \"visible\")              .html(chordTip(rdr(d)))              .style(\"top\", function () { return (d3.event.pageY - 100)+\"px\"})              .style(\"left\", function () { return (d3.event.pageX - 100)+\"px\";})        })        .on(\"mouseout\", function (d) { d3.select(\"#tooltip\").style(\"visibility\", \"hidden\") });      function chordTip (d) {        var p = d3.format(\".2%\"), q = d3.format(\",.3r\");        return \"Chord Info:<br/>\"          + d.sname + \" has \" + Math.round(d.svalue) + \" dependencies on \" + d.tname + \"<br/>\"          + d.tname + \" has \" + Math.round(d.tvalue) + \" dependencies on \" + d.sname      }      function groupTip (d) {        var p = d3.format(\".1%\"), q = d3.format(\",.3r\");        return \"Group Info:<br/>\"            + d.gname + \" defines \" + Math.round(d.gvalue) + \" dependencies\"      }      function mouseover(d, i) {        d3.select(\"#tooltip\")          .style(\"visibility\", \"visible\")          .html(groupTip(rdr(d)))          .style(\"top\", function () { return (d3.event.pageY - 80)+\"px\"})          .style(\"left\", function () { return (d3.event.pageX - 130)+\"px\";});        chordPaths.classed(\"fade\", function(p) {          return p.source.index != i              && p.target.index != i;        });      }    }});</script>"
      ],
      "text/plain": [
       "<IPython.core.display.HTML object>"
      ]
     },
     "execution_count": 52,
     "metadata": {},
     "output_type": "execute_result"
    }
   ],
   "source": [
    "packageDependencies = %cypher MATCH (a1:Main:Artifact)-[:CONTAINS]->(t1:Type), \\\n",
    "                                    (a2:Main:Artifact)-[:CONTAINS]->(t2:Type), \\\n",
    "                                    (t1)-[dep:DEPENDS_ON]->(t2) \\\n",
    "                             WHERE  a1 <> a2 \\\n",
    "                             RETURN a1.name AS Source, \\\n",
    "                                    a2.name AS Target, \\\n",
    "                                    COUNT(dep) AS X_Count \\\n",
    "                             ORDER BY Source, Target\n",
    "\n",
    "packageDependenciesData = packageDependencies.get_dataframe().to_csv(index = False).replace(\"\\r\\n\",\"\\\\n\").replace(\"\\n\",\"\\\\n\")\n",
    "text = Template(open('../vis/chord/chord-diagram.html', 'r').read().replace(\"\\n\",\"\")).substitute({\n",
    "    'chord_data': packageDependenciesData,\n",
    "    'container': 'module-chord-diagram'})\n",
    "\n",
    "HTML(text)"
   ]
  },
  {
   "cell_type": "markdown",
   "metadata": {},
   "source": [
    "## Dependency Drilldown between  \"distribution\" and \"persistence\""
   ]
  },
  {
   "cell_type": "code",
   "execution_count": 63,
   "metadata": {},
   "outputs": [
    {
     "name": "stdout",
     "output_type": "stream",
     "text": [
      "38 rows affected.\n"
     ]
    },
    {
     "data": {
      "text/html": [
       "<table>\n",
       "    <thead>\n",
       "        <tr>\n",
       "            <th>Dependent</th>\n",
       "            <th>Dependency</th>\n",
       "            <th>Weight</th>\n",
       "        </tr>\n",
       "    </thead>\n",
       "    <tbody>\n",
       "        <tr>\n",
       "            <td>DiagnosisKeyBundler</td>\n",
       "            <td>DiagnosisKey</td>\n",
       "            <td>34</td>\n",
       "        </tr>\n",
       "        <tr>\n",
       "            <td>EnfParameterAdapter</td>\n",
       "            <td>DiagnosisKey</td>\n",
       "            <td>18</td>\n",
       "        </tr>\n",
       "        <tr>\n",
       "            <td>TestDataGeneration</td>\n",
       "            <td>DiagnosisKey</td>\n",
       "            <td>14</td>\n",
       "        </tr>\n",
       "        <tr>\n",
       "            <td>ApplicationConfigurationV2PublicationConfig</td>\n",
       "            <td>PreDistributionTrlValueMappingProvider</td>\n",
       "            <td>12</td>\n",
       "        </tr>\n",
       "        <tr>\n",
       "            <td>TemporaryExposureKeyExportFile</td>\n",
       "            <td>DiagnosisKey</td>\n",
       "            <td>12</td>\n",
       "        </tr>\n",
       "        <tr>\n",
       "            <td>ProdDiagnosisKeyBundler</td>\n",
       "            <td>DiagnosisKey</td>\n",
       "            <td>11</td>\n",
       "        </tr>\n",
       "        <tr>\n",
       "            <td>TraceTimeIntervalWarningExportFile</td>\n",
       "            <td>TraceTimeIntervalWarning</td>\n",
       "            <td>10</td>\n",
       "        </tr>\n",
       "        <tr>\n",
       "            <td>ProdTraceTimeIntervalWarningsPackageBundler</td>\n",
       "            <td>TraceTimeIntervalWarning</td>\n",
       "            <td>10</td>\n",
       "        </tr>\n",
       "        <tr>\n",
       "            <td>EnfParameterAdapter</td>\n",
       "            <td>DiagnosisKeyBuilders$FinalBuilder</td>\n",
       "            <td>9</td>\n",
       "        </tr>\n",
       "        <tr>\n",
       "            <td>TestDataGeneration</td>\n",
       "            <td>DiagnosisKeyBuilders$FinalBuilder</td>\n",
       "            <td>7</td>\n",
       "        </tr>\n",
       "        <tr>\n",
       "            <td>StatisticsToProtobufMapping</td>\n",
       "            <td>StatisticsDownloadService</td>\n",
       "            <td>5</td>\n",
       "        </tr>\n",
       "        <tr>\n",
       "            <td>DemoTraceTimeIntervalWarningsPackageBundler</td>\n",
       "            <td>TraceTimeIntervalWarning</td>\n",
       "            <td>5</td>\n",
       "        </tr>\n",
       "        <tr>\n",
       "            <td>TraceTimeIntervalWarningsPackageBundler</td>\n",
       "            <td>TraceTimeIntervalWarning</td>\n",
       "            <td>5</td>\n",
       "        </tr>\n",
       "        <tr>\n",
       "            <td>TestDataGeneration</td>\n",
       "            <td>DiagnosisKeyService</td>\n",
       "            <td>5</td>\n",
       "        </tr>\n",
       "        <tr>\n",
       "            <td>RetentionPolicy</td>\n",
       "            <td>StatisticsDownloadService</td>\n",
       "            <td>4</td>\n",
       "        </tr>\n",
       "        <tr>\n",
       "            <td>TraceTimeIntervalWarningsStructureProvider</td>\n",
       "            <td>TraceTimeIntervalWarningService</td>\n",
       "            <td>4</td>\n",
       "        </tr>\n",
       "        <tr>\n",
       "            <td>RetentionPolicy</td>\n",
       "            <td>TraceTimeIntervalWarningService</td>\n",
       "            <td>4</td>\n",
       "        </tr>\n",
       "        <tr>\n",
       "            <td>ProdDiagnosisKeyBundler</td>\n",
       "            <td>KeySharingPoliciesChecker</td>\n",
       "            <td>4</td>\n",
       "        </tr>\n",
       "        <tr>\n",
       "            <td>RetentionPolicy</td>\n",
       "            <td>DiagnosisKeyService</td>\n",
       "            <td>4</td>\n",
       "        </tr>\n",
       "        <tr>\n",
       "            <td>DiagnosisKeysStructureProvider</td>\n",
       "            <td>DiagnosisKeyService</td>\n",
       "            <td>4</td>\n",
       "        </tr>\n",
       "        <tr>\n",
       "            <td>StatisticsToProtobufMapping</td>\n",
       "            <td>StatisticsDownload</td>\n",
       "            <td>3</td>\n",
       "        </tr>\n",
       "        <tr>\n",
       "            <td>EnfParameterAdapter</td>\n",
       "            <td>DiagnosisKeyBuilders$TransmissionRiskLevelBuilder</td>\n",
       "            <td>2</td>\n",
       "        </tr>\n",
       "        <tr>\n",
       "            <td>TestDataGeneration</td>\n",
       "            <td>DiagnosisKeyBuilders$TransmissionRiskLevelBuilder</td>\n",
       "            <td>2</td>\n",
       "        </tr>\n",
       "        <tr>\n",
       "            <td>TestDataGeneration</td>\n",
       "            <td>DiagnosisKeyBuilders$RollingStartIntervalNumberBuilder</td>\n",
       "            <td>2</td>\n",
       "        </tr>\n",
       "        <tr>\n",
       "            <td>EnfParameterAdapter</td>\n",
       "            <td>DiagnosisKeyBuilders$RollingStartIntervalNumberBuilder</td>\n",
       "            <td>2</td>\n",
       "        </tr>\n",
       "        <tr>\n",
       "            <td>ProdTraceTimeIntervalWarningsPackageBundler</td>\n",
       "            <td>CheckinsDateSpecification</td>\n",
       "            <td>2</td>\n",
       "        </tr>\n",
       "        <tr>\n",
       "            <td>TestDataGeneration</td>\n",
       "            <td>CommonDataGeneration</td>\n",
       "            <td>2</td>\n",
       "        </tr>\n",
       "        <tr>\n",
       "            <td>EnfParameterAdapter</td>\n",
       "            <td>DiagnosisKeyBuilders$Builder</td>\n",
       "            <td>2</td>\n",
       "        </tr>\n",
       "        <tr>\n",
       "            <td>TestDataGeneration</td>\n",
       "            <td>DiagnosisKeyBuilders$Builder</td>\n",
       "            <td>2</td>\n",
       "        </tr>\n",
       "        <tr>\n",
       "            <td>DemoDiagnosisKeyBundler</td>\n",
       "            <td>DiagnosisKey</td>\n",
       "            <td>2</td>\n",
       "        </tr>\n",
       "        <tr>\n",
       "            <td>TestDataGeneration</td>\n",
       "            <td>HashUtils</td>\n",
       "            <td>1</td>\n",
       "        </tr>\n",
       "        <tr>\n",
       "            <td>TraceTimeIntervalWarningsStructureProvider</td>\n",
       "            <td>TraceTimeIntervalWarning</td>\n",
       "            <td>1</td>\n",
       "        </tr>\n",
       "        <tr>\n",
       "            <td>TraceTimeIntervalWarningsHourDirectory</td>\n",
       "            <td>TraceTimeIntervalWarning</td>\n",
       "            <td>1</td>\n",
       "        </tr>\n",
       "        <tr>\n",
       "            <td>TransmissionRiskLevelEncoding</td>\n",
       "            <td>YamlPropertySourceFactory</td>\n",
       "            <td>1</td>\n",
       "        </tr>\n",
       "        <tr>\n",
       "            <td>ProdDiagnosisKeyBundler</td>\n",
       "            <td>ExpirationPolicy</td>\n",
       "            <td>1</td>\n",
       "        </tr>\n",
       "        <tr>\n",
       "            <td>DiagnosisKeysDateDirectory</td>\n",
       "            <td>DiagnosisKey</td>\n",
       "            <td>1</td>\n",
       "        </tr>\n",
       "        <tr>\n",
       "            <td>DiagnosisKeysHourDirectory</td>\n",
       "            <td>DiagnosisKey</td>\n",
       "            <td>1</td>\n",
       "        </tr>\n",
       "        <tr>\n",
       "            <td>DiagnosisKeysStructureProvider</td>\n",
       "            <td>DiagnosisKey</td>\n",
       "            <td>1</td>\n",
       "        </tr>\n",
       "    </tbody>\n",
       "</table>"
      ],
      "text/plain": [
       "[['DiagnosisKeyBundler', 'DiagnosisKey', 34],\n",
       " ['EnfParameterAdapter', 'DiagnosisKey', 18],\n",
       " ['TestDataGeneration', 'DiagnosisKey', 14],\n",
       " ['ApplicationConfigurationV2PublicationConfig',\n",
       "  'PreDistributionTrlValueMappingProvider',\n",
       "  12],\n",
       " ['TemporaryExposureKeyExportFile', 'DiagnosisKey', 12],\n",
       " ['ProdDiagnosisKeyBundler', 'DiagnosisKey', 11],\n",
       " ['TraceTimeIntervalWarningExportFile', 'TraceTimeIntervalWarning', 10],\n",
       " ['ProdTraceTimeIntervalWarningsPackageBundler',\n",
       "  'TraceTimeIntervalWarning',\n",
       "  10],\n",
       " ['EnfParameterAdapter', 'DiagnosisKeyBuilders$FinalBuilder', 9],\n",
       " ['TestDataGeneration', 'DiagnosisKeyBuilders$FinalBuilder', 7],\n",
       " ['StatisticsToProtobufMapping', 'StatisticsDownloadService', 5],\n",
       " ['DemoTraceTimeIntervalWarningsPackageBundler',\n",
       "  'TraceTimeIntervalWarning',\n",
       "  5],\n",
       " ['TraceTimeIntervalWarningsPackageBundler', 'TraceTimeIntervalWarning', 5],\n",
       " ['TestDataGeneration', 'DiagnosisKeyService', 5],\n",
       " ['RetentionPolicy', 'StatisticsDownloadService', 4],\n",
       " ['TraceTimeIntervalWarningsStructureProvider',\n",
       "  'TraceTimeIntervalWarningService',\n",
       "  4],\n",
       " ['RetentionPolicy', 'TraceTimeIntervalWarningService', 4],\n",
       " ['ProdDiagnosisKeyBundler', 'KeySharingPoliciesChecker', 4],\n",
       " ['RetentionPolicy', 'DiagnosisKeyService', 4],\n",
       " ['DiagnosisKeysStructureProvider', 'DiagnosisKeyService', 4],\n",
       " ['StatisticsToProtobufMapping', 'StatisticsDownload', 3],\n",
       " ['EnfParameterAdapter',\n",
       "  'DiagnosisKeyBuilders$TransmissionRiskLevelBuilder',\n",
       "  2],\n",
       " ['TestDataGeneration',\n",
       "  'DiagnosisKeyBuilders$TransmissionRiskLevelBuilder',\n",
       "  2],\n",
       " ['TestDataGeneration',\n",
       "  'DiagnosisKeyBuilders$RollingStartIntervalNumberBuilder',\n",
       "  2],\n",
       " ['EnfParameterAdapter',\n",
       "  'DiagnosisKeyBuilders$RollingStartIntervalNumberBuilder',\n",
       "  2],\n",
       " ['ProdTraceTimeIntervalWarningsPackageBundler',\n",
       "  'CheckinsDateSpecification',\n",
       "  2],\n",
       " ['TestDataGeneration', 'CommonDataGeneration', 2],\n",
       " ['EnfParameterAdapter', 'DiagnosisKeyBuilders$Builder', 2],\n",
       " ['TestDataGeneration', 'DiagnosisKeyBuilders$Builder', 2],\n",
       " ['DemoDiagnosisKeyBundler', 'DiagnosisKey', 2],\n",
       " ['TestDataGeneration', 'HashUtils', 1],\n",
       " ['TraceTimeIntervalWarningsStructureProvider', 'TraceTimeIntervalWarning', 1],\n",
       " ['TraceTimeIntervalWarningsHourDirectory', 'TraceTimeIntervalWarning', 1],\n",
       " ['TransmissionRiskLevelEncoding', 'YamlPropertySourceFactory', 1],\n",
       " ['ProdDiagnosisKeyBundler', 'ExpirationPolicy', 1],\n",
       " ['DiagnosisKeysDateDirectory', 'DiagnosisKey', 1],\n",
       " ['DiagnosisKeysHourDirectory', 'DiagnosisKey', 1],\n",
       " ['DiagnosisKeysStructureProvider', 'DiagnosisKey', 1]]"
      ]
     },
     "execution_count": 63,
     "metadata": {},
     "output_type": "execute_result"
    }
   ],
   "source": [
    "%cypher MATCH \\\n",
    "          (a1:Main:Artifact)-[:CONTAINS]->(t1:Type), \\\n",
    "          (a2:Main:Artifact)-[:CONTAINS]->(t2:Type), \\\n",
    "          (t1)-[dep:DEPENDS_ON]->(t2) \\\n",
    "        WHERE \\\n",
    "          a1.name = \"distribution\" \\\n",
    "          and a2.name = \"persistence\" \\\n",
    "        RETURN \\\n",
    "           t1.name as Dependent, t2.name as Dependency, dep.weight as Weight \\\n",
    "        ORDER BY \\\n",
    "          Weight desc"
   ]
  },
  {
   "cell_type": "markdown",
   "metadata": {},
   "source": [
    "## Impact of changing DiagnosisKey"
   ]
  },
  {
   "cell_type": "code",
   "execution_count": 68,
   "metadata": {},
   "outputs": [
    {
     "name": "stdout",
     "output_type": "stream",
     "text": [
      "31 rows affected.\n"
     ]
    },
    {
     "data": {
      "text/html": [
       "<table>\n",
       "    <thead>\n",
       "        <tr>\n",
       "            <th>Artifact</th>\n",
       "            <th>Dependents</th>\n",
       "            <th>Weight</th>\n",
       "        </tr>\n",
       "    </thead>\n",
       "    <tbody>\n",
       "        <tr>\n",
       "            <td>distribution</td>\n",
       "            <td>DiagnosisKeyBundler</td>\n",
       "            <td>34</td>\n",
       "        </tr>\n",
       "        <tr>\n",
       "            <td>distribution</td>\n",
       "            <td>EnfParameterAdapter</td>\n",
       "            <td>18</td>\n",
       "        </tr>\n",
       "        <tr>\n",
       "            <td>distribution</td>\n",
       "            <td>TestDataGeneration</td>\n",
       "            <td>14</td>\n",
       "        </tr>\n",
       "        <tr>\n",
       "            <td>distribution</td>\n",
       "            <td>TemporaryExposureKeyExportFile</td>\n",
       "            <td>12</td>\n",
       "        </tr>\n",
       "        <tr>\n",
       "            <td>distribution</td>\n",
       "            <td>ProdDiagnosisKeyBundler</td>\n",
       "            <td>11</td>\n",
       "        </tr>\n",
       "        <tr>\n",
       "            <td>distribution</td>\n",
       "            <td>DemoDiagnosisKeyBundler</td>\n",
       "            <td>2</td>\n",
       "        </tr>\n",
       "        <tr>\n",
       "            <td>distribution</td>\n",
       "            <td>DiagnosisKeysDateDirectory</td>\n",
       "            <td>1</td>\n",
       "        </tr>\n",
       "        <tr>\n",
       "            <td>distribution</td>\n",
       "            <td>DiagnosisKeysHourDirectory</td>\n",
       "            <td>1</td>\n",
       "        </tr>\n",
       "        <tr>\n",
       "            <td>distribution</td>\n",
       "            <td>DiagnosisKeysStructureProvider</td>\n",
       "            <td>1</td>\n",
       "        </tr>\n",
       "        <tr>\n",
       "            <td>download</td>\n",
       "            <td>ValidFederationKeyFilter</td>\n",
       "            <td>10</td>\n",
       "        </tr>\n",
       "        <tr>\n",
       "            <td>download</td>\n",
       "            <td>FederationBatchProcessor</td>\n",
       "            <td>7</td>\n",
       "        </tr>\n",
       "        <tr>\n",
       "            <td>download</td>\n",
       "            <td>FederationBatchProcessor</td>\n",
       "            <td>4</td>\n",
       "        </tr>\n",
       "        <tr>\n",
       "            <td>persistence</td>\n",
       "            <td>DiagnosisKeyService</td>\n",
       "            <td>18</td>\n",
       "        </tr>\n",
       "        <tr>\n",
       "            <td>persistence</td>\n",
       "            <td>FederationUploadKey</td>\n",
       "            <td>17</td>\n",
       "        </tr>\n",
       "        <tr>\n",
       "            <td>persistence</td>\n",
       "            <td>KeySharingPoliciesChecker</td>\n",
       "            <td>11</td>\n",
       "        </tr>\n",
       "        <tr>\n",
       "            <td>persistence</td>\n",
       "            <td>DiagnosisKeyBuilder</td>\n",
       "            <td>10</td>\n",
       "        </tr>\n",
       "        <tr>\n",
       "            <td>persistence</td>\n",
       "            <td>DiagnosisKeyBuilder</td>\n",
       "            <td>9</td>\n",
       "        </tr>\n",
       "        <tr>\n",
       "            <td>persistence</td>\n",
       "            <td>ValidDiagnosisKeyFilter</td>\n",
       "            <td>8</td>\n",
       "        </tr>\n",
       "        <tr>\n",
       "            <td>persistence</td>\n",
       "            <td>CommonDataGeneration</td>\n",
       "            <td>1</td>\n",
       "        </tr>\n",
       "        <tr>\n",
       "            <td>persistence</td>\n",
       "            <td>DiagnosisKeyBuilders$Builder</td>\n",
       "            <td>1</td>\n",
       "        </tr>\n",
       "        <tr>\n",
       "            <td>persistence</td>\n",
       "            <td>DiagnosisKeyBuilders$FinalBuilder</td>\n",
       "            <td>1</td>\n",
       "        </tr>\n",
       "        <tr>\n",
       "            <td>persistence</td>\n",
       "            <td>DiagnosisKeyRepository</td>\n",
       "            <td>1</td>\n",
       "        </tr>\n",
       "        <tr>\n",
       "            <td>protocols</td>\n",
       "            <td>DiagnosisKey$Builder</td>\n",
       "            <td>52</td>\n",
       "        </tr>\n",
       "        <tr>\n",
       "            <td>protocols</td>\n",
       "            <td>DiagnosisKeyBatch$Builder</td>\n",
       "            <td>17</td>\n",
       "        </tr>\n",
       "        <tr>\n",
       "            <td>protocols</td>\n",
       "            <td>DiagnosisKeyBatch</td>\n",
       "            <td>6</td>\n",
       "        </tr>\n",
       "        <tr>\n",
       "            <td>protocols</td>\n",
       "            <td>DiagnosisKey$1</td>\n",
       "            <td>5</td>\n",
       "        </tr>\n",
       "        <tr>\n",
       "            <td>protocols</td>\n",
       "            <td>DiagnosisKeyBatchOrBuilder</td>\n",
       "            <td>2</td>\n",
       "        </tr>\n",
       "        <tr>\n",
       "            <td>submission</td>\n",
       "            <td>SubmissionController</td>\n",
       "            <td>33</td>\n",
       "        </tr>\n",
       "        <tr>\n",
       "            <td>upload</td>\n",
       "            <td>BatchSigner</td>\n",
       "            <td>14</td>\n",
       "        </tr>\n",
       "        <tr>\n",
       "            <td>upload</td>\n",
       "            <td>DiagnosisKeyBatchAssembler</td>\n",
       "            <td>3</td>\n",
       "        </tr>\n",
       "        <tr>\n",
       "            <td>upload</td>\n",
       "            <td>TestDataGeneration</td>\n",
       "            <td>2</td>\n",
       "        </tr>\n",
       "    </tbody>\n",
       "</table>"
      ],
      "text/plain": [
       "[['distribution', 'DiagnosisKeyBundler', 34],\n",
       " ['distribution', 'EnfParameterAdapter', 18],\n",
       " ['distribution', 'TestDataGeneration', 14],\n",
       " ['distribution', 'TemporaryExposureKeyExportFile', 12],\n",
       " ['distribution', 'ProdDiagnosisKeyBundler', 11],\n",
       " ['distribution', 'DemoDiagnosisKeyBundler', 2],\n",
       " ['distribution', 'DiagnosisKeysDateDirectory', 1],\n",
       " ['distribution', 'DiagnosisKeysHourDirectory', 1],\n",
       " ['distribution', 'DiagnosisKeysStructureProvider', 1],\n",
       " ['download', 'ValidFederationKeyFilter', 10],\n",
       " ['download', 'FederationBatchProcessor', 7],\n",
       " ['download', 'FederationBatchProcessor', 4],\n",
       " ['persistence', 'DiagnosisKeyService', 18],\n",
       " ['persistence', 'FederationUploadKey', 17],\n",
       " ['persistence', 'KeySharingPoliciesChecker', 11],\n",
       " ['persistence', 'DiagnosisKeyBuilder', 10],\n",
       " ['persistence', 'DiagnosisKeyBuilder', 9],\n",
       " ['persistence', 'ValidDiagnosisKeyFilter', 8],\n",
       " ['persistence', 'CommonDataGeneration', 1],\n",
       " ['persistence', 'DiagnosisKeyBuilders$Builder', 1],\n",
       " ['persistence', 'DiagnosisKeyBuilders$FinalBuilder', 1],\n",
       " ['persistence', 'DiagnosisKeyRepository', 1],\n",
       " ['protocols', 'DiagnosisKey$Builder', 52],\n",
       " ['protocols', 'DiagnosisKeyBatch$Builder', 17],\n",
       " ['protocols', 'DiagnosisKeyBatch', 6],\n",
       " ['protocols', 'DiagnosisKey$1', 5],\n",
       " ['protocols', 'DiagnosisKeyBatchOrBuilder', 2],\n",
       " ['submission', 'SubmissionController', 33],\n",
       " ['upload', 'BatchSigner', 14],\n",
       " ['upload', 'DiagnosisKeyBatchAssembler', 3],\n",
       " ['upload', 'TestDataGeneration', 2]]"
      ]
     },
     "execution_count": 68,
     "metadata": {},
     "output_type": "execute_result"
    }
   ],
   "source": [
    "%cypher MATCH \\\n",
    "          (diagnosisKey:Type), \\\n",
    "          (a:Main:Artifact)-[:CONTAINS]->(t:Type), \\\n",
    "          (t)-[dep:DEPENDS_ON]->(diagnosisKey) \\\n",
    "        WHERE \\\n",
    "          diagnosisKey.name = \"DiagnosisKey\" \\\n",
    "        RETURN \\\n",
    "           a.name as Artifact, t.name as Dependents, dep.weight as Weight \\\n",
    "        ORDER BY \\\n",
    "           Artifact, Weight desc\n"
   ]
  },
  {
   "cell_type": "code",
   "execution_count": 43,
   "metadata": {},
   "outputs": [
    {
     "name": "stdout",
     "output_type": "stream",
     "text": [
      "5 rows affected.\n"
     ]
    },
    {
     "data": {
      "text/html": [
       "<table>\n",
       "    <thead>\n",
       "        <tr>\n",
       "            <th>Artifact</th>\n",
       "            <th>Service</th>\n",
       "        </tr>\n",
       "    </thead>\n",
       "    <tbody>\n",
       "        <tr>\n",
       "            <td>org.opencwa:distribution:jar:2.2.0-SNAPSHOT</td>\n",
       "            <td>app.coronawarn.server.services.distribution</td>\n",
       "        </tr>\n",
       "        <tr>\n",
       "            <td>org.opencwa:submission:jar:2.2.0-SNAPSHOT</td>\n",
       "            <td>app.coronawarn.server.services.submission</td>\n",
       "        </tr>\n",
       "        <tr>\n",
       "            <td>org.opencwa:callback:jar:2.2.0-SNAPSHOT</td>\n",
       "            <td>app.coronawarn.server.services.callback</td>\n",
       "        </tr>\n",
       "        <tr>\n",
       "            <td>org.opencwa:download:jar:2.2.0-SNAPSHOT</td>\n",
       "            <td>app.coronawarn.server.services.download</td>\n",
       "        </tr>\n",
       "        <tr>\n",
       "            <td>org.opencwa:upload:jar:2.2.0-SNAPSHOT</td>\n",
       "            <td>app.coronawarn.server.services.federation</td>\n",
       "        </tr>\n",
       "    </tbody>\n",
       "</table>"
      ],
      "text/plain": [
       "[['org.opencwa:distribution:jar:2.2.0-SNAPSHOT',\n",
       "  'app.coronawarn.server.services.distribution'],\n",
       " ['org.opencwa:submission:jar:2.2.0-SNAPSHOT',\n",
       "  'app.coronawarn.server.services.submission'],\n",
       " ['org.opencwa:callback:jar:2.2.0-SNAPSHOT',\n",
       "  'app.coronawarn.server.services.callback'],\n",
       " ['org.opencwa:download:jar:2.2.0-SNAPSHOT',\n",
       "  'app.coronawarn.server.services.download'],\n",
       " ['org.opencwa:upload:jar:2.2.0-SNAPSHOT',\n",
       "  'app.coronawarn.server.services.federation']]"
      ]
     },
     "execution_count": 43,
     "metadata": {},
     "output_type": "execute_result"
    }
   ],
   "source": [
    "%cypher MATCH \\\n",
    "          (artifact:Main:Artifact)-[:CONTAINS]->(root:Package)-[:CONTAINS]->(service:Package) \\\n",
    "        WHERE \\\n",
    "          root.fqn='app.coronawarn.server.services' \\\n",
    "        SET \\\n",
    "          service:Service \\\n",
    "        RETURN \\\n",
    "          artifact.fqn as Artifact, service.fqn as Service\n"
   ]
  },
  {
   "cell_type": "code",
   "execution_count": 48,
   "metadata": {},
   "outputs": [
    {
     "name": "stdout",
     "output_type": "stream",
     "text": [
      "3 labels added.\n"
     ]
    },
    {
     "data": {
      "text/html": [
       "<table>\n",
       "    <thead>\n",
       "        <tr>\n",
       "            <th>Artifact</th>\n",
       "            <th>Common</th>\n",
       "        </tr>\n",
       "    </thead>\n",
       "    <tbody>\n",
       "        <tr>\n",
       "            <td>org.opencwa:protocols:jar:2.2.0-SNAPSHOT</td>\n",
       "            <td>app.coronawarn.server.common.protocols</td>\n",
       "        </tr>\n",
       "        <tr>\n",
       "            <td>org.opencwa:federation:jar:2.2.0-SNAPSHOT</td>\n",
       "            <td>app.coronawarn.server.common.federation</td>\n",
       "        </tr>\n",
       "        <tr>\n",
       "            <td>org.opencwa:persistence:jar:2.2.0-SNAPSHOT</td>\n",
       "            <td>app.coronawarn.server.common.persistence</td>\n",
       "        </tr>\n",
       "    </tbody>\n",
       "</table>"
      ],
      "text/plain": [
       "[['org.opencwa:protocols:jar:2.2.0-SNAPSHOT',\n",
       "  'app.coronawarn.server.common.protocols'],\n",
       " ['org.opencwa:federation:jar:2.2.0-SNAPSHOT',\n",
       "  'app.coronawarn.server.common.federation'],\n",
       " ['org.opencwa:persistence:jar:2.2.0-SNAPSHOT',\n",
       "  'app.coronawarn.server.common.persistence']]"
      ]
     },
     "execution_count": 48,
     "metadata": {},
     "output_type": "execute_result"
    }
   ],
   "source": [
    "%cypher MATCH \\\n",
    "          (artifact:Main:Artifact)-[:CONTAINS]->(root:Package)-[:CONTAINS]->(common:Package) \\\n",
    "        WHERE \\\n",
    "          root.fqn='app.coronawarn.server.common' \\\n",
    "        SET \\\n",
    "          common:Common \\\n",
    "        RETURN \\\n",
    "          artifact.fqn as Artifact, common.fqn as Common\n"
   ]
  },
  {
   "cell_type": "code",
   "execution_count": 45,
   "metadata": {},
   "outputs": [
    {
     "name": "stdout",
     "output_type": "stream",
     "text": [
      "110 rows affected.\n"
     ]
    },
    {
     "data": {
      "application/vnd.plotly.v1+json": {
       "config": {
        "plotlyServerURL": "https://plot.ly"
       },
       "data": [
        {
         "alignmentgroup": "True",
         "hovertemplate": "Author=ioangut<br>Service=%{x}<br>Commits=%{y}<extra></extra>",
         "legendgroup": "ioangut",
         "marker": {
          "color": "#636efa"
         },
         "name": "ioangut",
         "offsetgroup": "ioangut",
         "orientation": "v",
         "showlegend": true,
         "textposition": "auto",
         "type": "bar",
         "x": [
          "distribution",
          "submission",
          "upload",
          "callback",
          "download"
         ],
         "xaxis": "x",
         "y": [
          2376,
          545,
          65,
          7,
          6
         ],
         "yaxis": "y"
        },
        {
         "alignmentgroup": "True",
         "hovertemplate": "Author=Pit Humke<br>Service=%{x}<br>Commits=%{y}<extra></extra>",
         "legendgroup": "Pit Humke",
         "marker": {
          "color": "#EF553B"
         },
         "name": "Pit Humke",
         "offsetgroup": "Pit Humke",
         "orientation": "v",
         "showlegend": true,
         "textposition": "auto",
         "type": "bar",
         "x": [
          "distribution",
          "submission",
          "upload"
         ],
         "xaxis": "x",
         "y": [
          2303,
          411,
          32
         ],
         "yaxis": "y"
        },
        {
         "alignmentgroup": "True",
         "hovertemplate": "Author=Steve BE<br>Service=%{x}<br>Commits=%{y}<extra></extra>",
         "legendgroup": "Steve BE",
         "marker": {
          "color": "#00cc96"
         },
         "name": "Steve BE",
         "offsetgroup": "Steve BE",
         "orientation": "v",
         "showlegend": true,
         "textposition": "auto",
         "type": "bar",
         "x": [
          "distribution",
          "submission"
         ],
         "xaxis": "x",
         "y": [
          2004,
          235
         ],
         "yaxis": "y"
        },
        {
         "alignmentgroup": "True",
         "hovertemplate": "Author=Frederico<br>Service=%{x}<br>Commits=%{y}<extra></extra>",
         "legendgroup": "Frederico",
         "marker": {
          "color": "#ab63fa"
         },
         "name": "Frederico",
         "offsetgroup": "Frederico",
         "orientation": "v",
         "showlegend": true,
         "textposition": "auto",
         "type": "bar",
         "x": [
          "distribution",
          "upload",
          "download",
          "submission"
         ],
         "xaxis": "x",
         "y": [
          1617,
          585,
          25,
          21
         ],
         "yaxis": "y"
        },
        {
         "alignmentgroup": "True",
         "hovertemplate": "Author=Sorin Stefan Iovita<br>Service=%{x}<br>Commits=%{y}<extra></extra>",
         "legendgroup": "Sorin Stefan Iovita",
         "marker": {
          "color": "#FFA15A"
         },
         "name": "Sorin Stefan Iovita",
         "offsetgroup": "Sorin Stefan Iovita",
         "orientation": "v",
         "showlegend": true,
         "textposition": "auto",
         "type": "bar",
         "x": [
          "distribution",
          "submission",
          "download",
          "upload"
         ],
         "xaxis": "x",
         "y": [
          1472,
          147,
          81,
          40
         ],
         "yaxis": "y"
        },
        {
         "alignmentgroup": "True",
         "hovertemplate": "Author=Michael Burwig<br>Service=%{x}<br>Commits=%{y}<extra></extra>",
         "legendgroup": "Michael Burwig",
         "marker": {
          "color": "#19d3f3"
         },
         "name": "Michael Burwig",
         "offsetgroup": "Michael Burwig",
         "orientation": "v",
         "showlegend": true,
         "textposition": "auto",
         "type": "bar",
         "x": [
          "distribution",
          "submission"
         ],
         "xaxis": "x",
         "y": [
          1452,
          386
         ],
         "yaxis": "y"
        },
        {
         "alignmentgroup": "True",
         "hovertemplate": "Author=Timon G<br>Service=%{x}<br>Commits=%{y}<extra></extra>",
         "legendgroup": "Timon G",
         "marker": {
          "color": "#FF6692"
         },
         "name": "Timon G",
         "offsetgroup": "Timon G",
         "orientation": "v",
         "showlegend": true,
         "textposition": "auto",
         "type": "bar",
         "x": [
          "distribution",
          "submission"
         ],
         "xaxis": "x",
         "y": [
          1340,
          98
         ],
         "yaxis": "y"
        },
        {
         "alignmentgroup": "True",
         "hovertemplate": "Author=Hilmar Falkenberg<br>Service=%{x}<br>Commits=%{y}<extra></extra>",
         "legendgroup": "Hilmar Falkenberg",
         "marker": {
          "color": "#B6E880"
         },
         "name": "Hilmar Falkenberg",
         "offsetgroup": "Hilmar Falkenberg",
         "orientation": "v",
         "showlegend": true,
         "textposition": "auto",
         "type": "bar",
         "x": [
          "distribution",
          "submission",
          "upload",
          "download",
          "callback"
         ],
         "xaxis": "x",
         "y": [
          1280,
          313,
          178,
          114,
          39
         ],
         "yaxis": "y"
        },
        {
         "alignmentgroup": "True",
         "hovertemplate": "Author=Jeremias Rößler<br>Service=%{x}<br>Commits=%{y}<extra></extra>",
         "legendgroup": "Jeremias Rößler",
         "marker": {
          "color": "#FF97FF"
         },
         "name": "Jeremias Rößler",
         "offsetgroup": "Jeremias Rößler",
         "orientation": "v",
         "showlegend": true,
         "textposition": "auto",
         "type": "bar",
         "x": [
          "distribution",
          "submission",
          "callback",
          "upload"
         ],
         "xaxis": "x",
         "y": [
          1235,
          73,
          46,
          23
         ],
         "yaxis": "y"
        },
        {
         "alignmentgroup": "True",
         "hovertemplate": "Author=KevponSAP<br>Service=%{x}<br>Commits=%{y}<extra></extra>",
         "legendgroup": "KevponSAP",
         "marker": {
          "color": "#FECB52"
         },
         "name": "KevponSAP",
         "offsetgroup": "KevponSAP",
         "orientation": "v",
         "showlegend": true,
         "textposition": "auto",
         "type": "bar",
         "x": [
          "distribution",
          "submission",
          "upload",
          "callback"
         ],
         "xaxis": "x",
         "y": [
          1156,
          168,
          8,
          7
         ],
         "yaxis": "y"
        },
        {
         "alignmentgroup": "True",
         "hovertemplate": "Author=EugenM-SAP<br>Service=%{x}<br>Commits=%{y}<extra></extra>",
         "legendgroup": "EugenM-SAP",
         "marker": {
          "color": "#636efa"
         },
         "name": "EugenM-SAP",
         "offsetgroup": "EugenM-SAP",
         "orientation": "v",
         "showlegend": true,
         "textposition": "auto",
         "type": "bar",
         "x": [
          "distribution",
          "submission",
          "upload",
          "download"
         ],
         "xaxis": "x",
         "y": [
          1073,
          406,
          208,
          47
         ],
         "yaxis": "y"
        },
        {
         "alignmentgroup": "True",
         "hovertemplate": "Author=Eric Bratter<br>Service=%{x}<br>Commits=%{y}<extra></extra>",
         "legendgroup": "Eric Bratter",
         "marker": {
          "color": "#EF553B"
         },
         "name": "Eric Bratter",
         "offsetgroup": "Eric Bratter",
         "orientation": "v",
         "showlegend": true,
         "textposition": "auto",
         "type": "bar",
         "x": [
          "distribution",
          "submission",
          "upload",
          "download",
          "callback"
         ],
         "xaxis": "x",
         "y": [
          964,
          181,
          145,
          51,
          27
         ],
         "yaxis": "y"
        },
        {
         "alignmentgroup": "True",
         "hovertemplate": "Author=FelixRottler<br>Service=%{x}<br>Commits=%{y}<extra></extra>",
         "legendgroup": "FelixRottler",
         "marker": {
          "color": "#00cc96"
         },
         "name": "FelixRottler",
         "offsetgroup": "FelixRottler",
         "orientation": "v",
         "showlegend": true,
         "textposition": "auto",
         "type": "bar",
         "x": [
          "distribution",
          "submission",
          "download",
          "callback",
          "upload"
         ],
         "xaxis": "x",
         "y": [
          898,
          146,
          139,
          61,
          32
         ],
         "yaxis": "y"
        },
        {
         "alignmentgroup": "True",
         "hovertemplate": "Author=alexmoroianu<br>Service=%{x}<br>Commits=%{y}<extra></extra>",
         "legendgroup": "alexmoroianu",
         "marker": {
          "color": "#ab63fa"
         },
         "name": "alexmoroianu",
         "offsetgroup": "alexmoroianu",
         "orientation": "v",
         "showlegend": true,
         "textposition": "auto",
         "type": "bar",
         "x": [
          "distribution",
          "submission",
          "upload",
          "callback"
         ],
         "xaxis": "x",
         "y": [
          837,
          196,
          80,
          34
         ],
         "yaxis": "y"
        },
        {
         "alignmentgroup": "True",
         "hovertemplate": "Author=Christian Kirschnick<br>Service=%{x}<br>Commits=%{y}<extra></extra>",
         "legendgroup": "Christian Kirschnick",
         "marker": {
          "color": "#FFA15A"
         },
         "name": "Christian Kirschnick",
         "offsetgroup": "Christian Kirschnick",
         "orientation": "v",
         "showlegend": true,
         "textposition": "auto",
         "type": "bar",
         "x": [
          "distribution",
          "submission"
         ],
         "xaxis": "x",
         "y": [
          671,
          202
         ],
         "yaxis": "y"
        },
        {
         "alignmentgroup": "True",
         "hovertemplate": "Author=emmetsap<br>Service=%{x}<br>Commits=%{y}<extra></extra>",
         "legendgroup": "emmetsap",
         "marker": {
          "color": "#19d3f3"
         },
         "name": "emmetsap",
         "offsetgroup": "emmetsap",
         "orientation": "v",
         "showlegend": true,
         "textposition": "auto",
         "type": "bar",
         "x": [
          "distribution",
          "download",
          "submission",
          "upload"
         ],
         "xaxis": "x",
         "y": [
          530,
          50,
          42,
          32
         ],
         "yaxis": "y"
        },
        {
         "alignmentgroup": "True",
         "hovertemplate": "Author=MKusber<br>Service=%{x}<br>Commits=%{y}<extra></extra>",
         "legendgroup": "MKusber",
         "marker": {
          "color": "#FF6692"
         },
         "name": "MKusber",
         "offsetgroup": "MKusber",
         "orientation": "v",
         "showlegend": true,
         "textposition": "auto",
         "type": "bar",
         "x": [
          "distribution",
          "submission"
         ],
         "xaxis": "x",
         "y": [
          399,
          90
         ],
         "yaxis": "y"
        },
        {
         "alignmentgroup": "True",
         "hovertemplate": "Author=Anuj Patel<br>Service=%{x}<br>Commits=%{y}<extra></extra>",
         "legendgroup": "Anuj Patel",
         "marker": {
          "color": "#B6E880"
         },
         "name": "Anuj Patel",
         "offsetgroup": "Anuj Patel",
         "orientation": "v",
         "showlegend": true,
         "textposition": "auto",
         "type": "bar",
         "x": [
          "distribution",
          "submission"
         ],
         "xaxis": "x",
         "y": [
          376,
          62
         ],
         "yaxis": "y"
        },
        {
         "alignmentgroup": "True",
         "hovertemplate": "Author=Michael<br>Service=%{x}<br>Commits=%{y}<extra></extra>",
         "legendgroup": "Michael",
         "marker": {
          "color": "#FF97FF"
         },
         "name": "Michael",
         "offsetgroup": "Michael",
         "orientation": "v",
         "showlegend": true,
         "textposition": "auto",
         "type": "bar",
         "x": [
          "distribution",
          "download",
          "submission",
          "callback",
          "upload"
         ],
         "xaxis": "x",
         "y": [
          300,
          243,
          221,
          121,
          90
         ],
         "yaxis": "y"
        },
        {
         "alignmentgroup": "True",
         "hovertemplate": "Author=Johannes Eschrig<br>Service=%{x}<br>Commits=%{y}<extra></extra>",
         "legendgroup": "Johannes Eschrig",
         "marker": {
          "color": "#FECB52"
         },
         "name": "Johannes Eschrig",
         "offsetgroup": "Johannes Eschrig",
         "orientation": "v",
         "showlegend": true,
         "textposition": "auto",
         "type": "bar",
         "x": [
          "submission",
          "distribution"
         ],
         "xaxis": "x",
         "y": [
          187,
          29
         ],
         "yaxis": "y"
        },
        {
         "alignmentgroup": "True",
         "hovertemplate": "Author=Ole Lilienthal<br>Service=%{x}<br>Commits=%{y}<extra></extra>",
         "legendgroup": "Ole Lilienthal",
         "marker": {
          "color": "#636efa"
         },
         "name": "Ole Lilienthal",
         "offsetgroup": "Ole Lilienthal",
         "orientation": "v",
         "showlegend": true,
         "textposition": "auto",
         "type": "bar",
         "x": [
          "submission",
          "distribution"
         ],
         "xaxis": "x",
         "y": [
          98,
          52
         ],
         "yaxis": "y"
        },
        {
         "alignmentgroup": "True",
         "hovertemplate": "Author=kilbphilippSAP<br>Service=%{x}<br>Commits=%{y}<extra></extra>",
         "legendgroup": "kilbphilippSAP",
         "marker": {
          "color": "#EF553B"
         },
         "name": "kilbphilippSAP",
         "offsetgroup": "kilbphilippSAP",
         "orientation": "v",
         "showlegend": true,
         "textposition": "auto",
         "type": "bar",
         "x": [
          "download",
          "submission",
          "distribution",
          "callback"
         ],
         "xaxis": "x",
         "y": [
          85,
          42,
          15,
          14
         ],
         "yaxis": "y"
        },
        {
         "alignmentgroup": "True",
         "hovertemplate": "Author=Oliver Drotbohm<br>Service=%{x}<br>Commits=%{y}<extra></extra>",
         "legendgroup": "Oliver Drotbohm",
         "marker": {
          "color": "#00cc96"
         },
         "name": "Oliver Drotbohm",
         "offsetgroup": "Oliver Drotbohm",
         "orientation": "v",
         "showlegend": true,
         "textposition": "auto",
         "type": "bar",
         "x": [
          "distribution"
         ],
         "xaxis": "x",
         "y": [
          75
         ],
         "yaxis": "y"
        },
        {
         "alignmentgroup": "True",
         "hovertemplate": "Author=Björn Wilmsmann<br>Service=%{x}<br>Commits=%{y}<extra></extra>",
         "legendgroup": "Björn Wilmsmann",
         "marker": {
          "color": "#ab63fa"
         },
         "name": "Björn Wilmsmann",
         "offsetgroup": "Björn Wilmsmann",
         "orientation": "v",
         "showlegend": true,
         "textposition": "auto",
         "type": "bar",
         "x": [
          "distribution",
          "submission"
         ],
         "xaxis": "x",
         "y": [
          72,
          7
         ],
         "yaxis": "y"
        },
        {
         "alignmentgroup": "True",
         "hovertemplate": "Author=CWA Technical User<br>Service=%{x}<br>Commits=%{y}<extra></extra>",
         "legendgroup": "CWA Technical User",
         "marker": {
          "color": "#FFA15A"
         },
         "name": "CWA Technical User",
         "offsetgroup": "CWA Technical User",
         "orientation": "v",
         "showlegend": true,
         "textposition": "auto",
         "type": "bar",
         "x": [
          "submission",
          "distribution"
         ],
         "xaxis": "x",
         "y": [
          63,
          8
         ],
         "yaxis": "y"
        },
        {
         "alignmentgroup": "True",
         "hovertemplate": "Author=Michael Braun<br>Service=%{x}<br>Commits=%{y}<extra></extra>",
         "legendgroup": "Michael Braun",
         "marker": {
          "color": "#19d3f3"
         },
         "name": "Michael Braun",
         "offsetgroup": "Michael Braun",
         "orientation": "v",
         "showlegend": true,
         "textposition": "auto",
         "type": "bar",
         "x": [
          "callback",
          "submission"
         ],
         "xaxis": "x",
         "y": [
          62,
          20
         ],
         "yaxis": "y"
        },
        {
         "alignmentgroup": "True",
         "hovertemplate": "Author=JonasZeitzem-sap<br>Service=%{x}<br>Commits=%{y}<extra></extra>",
         "legendgroup": "JonasZeitzem-sap",
         "marker": {
          "color": "#FF6692"
         },
         "name": "JonasZeitzem-sap",
         "offsetgroup": "JonasZeitzem-sap",
         "orientation": "v",
         "showlegend": true,
         "textposition": "auto",
         "type": "bar",
         "x": [
          "download",
          "callback",
          "submission"
         ],
         "xaxis": "x",
         "y": [
          61,
          27,
          14
         ],
         "yaxis": "y"
        },
        {
         "alignmentgroup": "True",
         "hovertemplate": "Author=Vikram Thakur<br>Service=%{x}<br>Commits=%{y}<extra></extra>",
         "legendgroup": "Vikram Thakur",
         "marker": {
          "color": "#B6E880"
         },
         "name": "Vikram Thakur",
         "offsetgroup": "Vikram Thakur",
         "orientation": "v",
         "showlegend": true,
         "textposition": "auto",
         "type": "bar",
         "x": [
          "distribution"
         ],
         "xaxis": "x",
         "y": [
          55
         ],
         "yaxis": "y"
        },
        {
         "alignmentgroup": "True",
         "hovertemplate": "Author=Florian Bauer<br>Service=%{x}<br>Commits=%{y}<extra></extra>",
         "legendgroup": "Florian Bauer",
         "marker": {
          "color": "#FF97FF"
         },
         "name": "Florian Bauer",
         "offsetgroup": "Florian Bauer",
         "orientation": "v",
         "showlegend": true,
         "textposition": "auto",
         "type": "bar",
         "x": [
          "distribution",
          "submission"
         ],
         "xaxis": "x",
         "y": [
          52,
          7
         ],
         "yaxis": "y"
        },
        {
         "alignmentgroup": "True",
         "hovertemplate": "Author=Nils El-Himoud<br>Service=%{x}<br>Commits=%{y}<extra></extra>",
         "legendgroup": "Nils El-Himoud",
         "marker": {
          "color": "#FECB52"
         },
         "name": "Nils El-Himoud",
         "offsetgroup": "Nils El-Himoud",
         "orientation": "v",
         "showlegend": true,
         "textposition": "auto",
         "type": "bar",
         "x": [
          "distribution"
         ],
         "xaxis": "x",
         "y": [
          35
         ],
         "yaxis": "y"
        },
        {
         "alignmentgroup": "True",
         "hovertemplate": "Author=Philipp Kilb<br>Service=%{x}<br>Commits=%{y}<extra></extra>",
         "legendgroup": "Philipp Kilb",
         "marker": {
          "color": "#636efa"
         },
         "name": "Philipp Kilb",
         "offsetgroup": "Philipp Kilb",
         "orientation": "v",
         "showlegend": true,
         "textposition": "auto",
         "type": "bar",
         "x": [
          "callback"
         ],
         "xaxis": "x",
         "y": [
          35
         ],
         "yaxis": "y"
        },
        {
         "alignmentgroup": "True",
         "hovertemplate": "Author=Jan Wedel<br>Service=%{x}<br>Commits=%{y}<extra></extra>",
         "legendgroup": "Jan Wedel",
         "marker": {
          "color": "#EF553B"
         },
         "name": "Jan Wedel",
         "offsetgroup": "Jan Wedel",
         "orientation": "v",
         "showlegend": true,
         "textposition": "auto",
         "type": "bar",
         "x": [
          "submission"
         ],
         "xaxis": "x",
         "y": [
          27
         ],
         "yaxis": "y"
        },
        {
         "alignmentgroup": "True",
         "hovertemplate": "Author=Artem Prigoda<br>Service=%{x}<br>Commits=%{y}<extra></extra>",
         "legendgroup": "Artem Prigoda",
         "marker": {
          "color": "#00cc96"
         },
         "name": "Artem Prigoda",
         "offsetgroup": "Artem Prigoda",
         "orientation": "v",
         "showlegend": true,
         "textposition": "auto",
         "type": "bar",
         "x": [
          "distribution"
         ],
         "xaxis": "x",
         "y": [
          27
         ],
         "yaxis": "y"
        },
        {
         "alignmentgroup": "True",
         "hovertemplate": "Author=Jan Sievers<br>Service=%{x}<br>Commits=%{y}<extra></extra>",
         "legendgroup": "Jan Sievers",
         "marker": {
          "color": "#ab63fa"
         },
         "name": "Jan Sievers",
         "offsetgroup": "Jan Sievers",
         "orientation": "v",
         "showlegend": true,
         "textposition": "auto",
         "type": "bar",
         "x": [
          "distribution"
         ],
         "xaxis": "x",
         "y": [
          26
         ],
         "yaxis": "y"
        },
        {
         "alignmentgroup": "True",
         "hovertemplate": "Author=Eugen M<br>Service=%{x}<br>Commits=%{y}<extra></extra>",
         "legendgroup": "Eugen M",
         "marker": {
          "color": "#FFA15A"
         },
         "name": "Eugen M",
         "offsetgroup": "Eugen M",
         "orientation": "v",
         "showlegend": true,
         "textposition": "auto",
         "type": "bar",
         "x": [
          "upload"
         ],
         "xaxis": "x",
         "y": [
          24
         ],
         "yaxis": "y"
        },
        {
         "alignmentgroup": "True",
         "hovertemplate": "Author=Akshat Jain<br>Service=%{x}<br>Commits=%{y}<extra></extra>",
         "legendgroup": "Akshat Jain",
         "marker": {
          "color": "#19d3f3"
         },
         "name": "Akshat Jain",
         "offsetgroup": "Akshat Jain",
         "orientation": "v",
         "showlegend": true,
         "textposition": "auto",
         "type": "bar",
         "x": [
          "distribution"
         ],
         "xaxis": "x",
         "y": [
          17
         ],
         "yaxis": "y"
        },
        {
         "alignmentgroup": "True",
         "hovertemplate": "Author=Saschl<br>Service=%{x}<br>Commits=%{y}<extra></extra>",
         "legendgroup": "Saschl",
         "marker": {
          "color": "#FF6692"
         },
         "name": "Saschl",
         "offsetgroup": "Saschl",
         "orientation": "v",
         "showlegend": true,
         "textposition": "auto",
         "type": "bar",
         "x": [
          "distribution",
          "submission"
         ],
         "xaxis": "x",
         "y": [
          15,
          14
         ],
         "yaxis": "y"
        },
        {
         "alignmentgroup": "True",
         "hovertemplate": "Author=Yavuz Günay<br>Service=%{x}<br>Commits=%{y}<extra></extra>",
         "legendgroup": "Yavuz Günay",
         "marker": {
          "color": "#B6E880"
         },
         "name": "Yavuz Günay",
         "offsetgroup": "Yavuz Günay",
         "orientation": "v",
         "showlegend": true,
         "textposition": "auto",
         "type": "bar",
         "x": [
          "distribution"
         ],
         "xaxis": "x",
         "y": [
          15
         ],
         "yaxis": "y"
        },
        {
         "alignmentgroup": "True",
         "hovertemplate": "Author=dependabot[bot]<br>Service=%{x}<br>Commits=%{y}<extra></extra>",
         "legendgroup": "dependabot[bot]",
         "marker": {
          "color": "#FF97FF"
         },
         "name": "dependabot[bot]",
         "offsetgroup": "dependabot[bot]",
         "orientation": "v",
         "showlegend": true,
         "textposition": "auto",
         "type": "bar",
         "x": [
          "submission",
          "download"
         ],
         "xaxis": "x",
         "y": [
          14,
          12
         ],
         "yaxis": "y"
        },
        {
         "alignmentgroup": "True",
         "hovertemplate": "Author=Roberto Duessmann<br>Service=%{x}<br>Commits=%{y}<extra></extra>",
         "legendgroup": "Roberto Duessmann",
         "marker": {
          "color": "#FECB52"
         },
         "name": "Roberto Duessmann",
         "offsetgroup": "Roberto Duessmann",
         "orientation": "v",
         "showlegend": true,
         "textposition": "auto",
         "type": "bar",
         "x": [
          "submission"
         ],
         "xaxis": "x",
         "y": [
          14
         ],
         "yaxis": "y"
        },
        {
         "alignmentgroup": "True",
         "hovertemplate": "Author=Kevin Pontes<br>Service=%{x}<br>Commits=%{y}<extra></extra>",
         "legendgroup": "Kevin Pontes",
         "marker": {
          "color": "#636efa"
         },
         "name": "Kevin Pontes",
         "offsetgroup": "Kevin Pontes",
         "orientation": "v",
         "showlegend": true,
         "textposition": "auto",
         "type": "bar",
         "x": [
          "callback"
         ],
         "xaxis": "x",
         "y": [
          13
         ],
         "yaxis": "y"
        },
        {
         "alignmentgroup": "True",
         "hovertemplate": "Author=Max Eisner<br>Service=%{x}<br>Commits=%{y}<extra></extra>",
         "legendgroup": "Max Eisner",
         "marker": {
          "color": "#EF553B"
         },
         "name": "Max Eisner",
         "offsetgroup": "Max Eisner",
         "orientation": "v",
         "showlegend": true,
         "textposition": "auto",
         "type": "bar",
         "x": [
          "distribution"
         ],
         "xaxis": "x",
         "y": [
          9
         ],
         "yaxis": "y"
        },
        {
         "alignmentgroup": "True",
         "hovertemplate": "Author=Alexander<br>Service=%{x}<br>Commits=%{y}<extra></extra>",
         "legendgroup": "Alexander",
         "marker": {
          "color": "#00cc96"
         },
         "name": "Alexander",
         "offsetgroup": "Alexander",
         "orientation": "v",
         "showlegend": true,
         "textposition": "auto",
         "type": "bar",
         "x": [
          "distribution"
         ],
         "xaxis": "x",
         "y": [
          8
         ],
         "yaxis": "y"
        },
        {
         "alignmentgroup": "True",
         "hovertemplate": "Author=Alice Bilc<br>Service=%{x}<br>Commits=%{y}<extra></extra>",
         "legendgroup": "Alice Bilc",
         "marker": {
          "color": "#ab63fa"
         },
         "name": "Alice Bilc",
         "offsetgroup": "Alice Bilc",
         "orientation": "v",
         "showlegend": true,
         "textposition": "auto",
         "type": "bar",
         "x": [
          "distribution"
         ],
         "xaxis": "x",
         "y": [
          8
         ],
         "yaxis": "y"
        },
        {
         "alignmentgroup": "True",
         "hovertemplate": "Author=felixbohnacker<br>Service=%{x}<br>Commits=%{y}<extra></extra>",
         "legendgroup": "felixbohnacker",
         "marker": {
          "color": "#FFA15A"
         },
         "name": "felixbohnacker",
         "offsetgroup": "felixbohnacker",
         "orientation": "v",
         "showlegend": true,
         "textposition": "auto",
         "type": "bar",
         "x": [
          "submission"
         ],
         "xaxis": "x",
         "y": [
          7
         ],
         "yaxis": "y"
        },
        {
         "alignmentgroup": "True",
         "hovertemplate": "Author=Eric Spiegelberg<br>Service=%{x}<br>Commits=%{y}<extra></extra>",
         "legendgroup": "Eric Spiegelberg",
         "marker": {
          "color": "#19d3f3"
         },
         "name": "Eric Spiegelberg",
         "offsetgroup": "Eric Spiegelberg",
         "orientation": "v",
         "showlegend": true,
         "textposition": "auto",
         "type": "bar",
         "x": [
          "submission"
         ],
         "xaxis": "x",
         "y": [
          7
         ],
         "yaxis": "y"
        },
        {
         "alignmentgroup": "True",
         "hovertemplate": "Author=Stefan Weil<br>Service=%{x}<br>Commits=%{y}<extra></extra>",
         "legendgroup": "Stefan Weil",
         "marker": {
          "color": "#FF6692"
         },
         "name": "Stefan Weil",
         "offsetgroup": "Stefan Weil",
         "orientation": "v",
         "showlegend": true,
         "textposition": "auto",
         "type": "bar",
         "x": [
          "submission"
         ],
         "xaxis": "x",
         "y": [
          6
         ],
         "yaxis": "y"
        },
        {
         "alignmentgroup": "True",
         "hovertemplate": "Author=Maximilian Lenkeit<br>Service=%{x}<br>Commits=%{y}<extra></extra>",
         "legendgroup": "Maximilian Lenkeit",
         "marker": {
          "color": "#B6E880"
         },
         "name": "Maximilian Lenkeit",
         "offsetgroup": "Maximilian Lenkeit",
         "orientation": "v",
         "showlegend": true,
         "textposition": "auto",
         "type": "bar",
         "x": [
          "download"
         ],
         "xaxis": "x",
         "y": [
          6
         ],
         "yaxis": "y"
        }
       ],
       "layout": {
        "barmode": "relative",
        "legend": {
         "title": {
          "text": "Author"
         },
         "tracegroupgap": 0
        },
        "template": {
         "data": {
          "bar": [
           {
            "error_x": {
             "color": "#2a3f5f"
            },
            "error_y": {
             "color": "#2a3f5f"
            },
            "marker": {
             "line": {
              "color": "#E5ECF6",
              "width": 0.5
             }
            },
            "type": "bar"
           }
          ],
          "barpolar": [
           {
            "marker": {
             "line": {
              "color": "#E5ECF6",
              "width": 0.5
             }
            },
            "type": "barpolar"
           }
          ],
          "carpet": [
           {
            "aaxis": {
             "endlinecolor": "#2a3f5f",
             "gridcolor": "white",
             "linecolor": "white",
             "minorgridcolor": "white",
             "startlinecolor": "#2a3f5f"
            },
            "baxis": {
             "endlinecolor": "#2a3f5f",
             "gridcolor": "white",
             "linecolor": "white",
             "minorgridcolor": "white",
             "startlinecolor": "#2a3f5f"
            },
            "type": "carpet"
           }
          ],
          "choropleth": [
           {
            "colorbar": {
             "outlinewidth": 0,
             "ticks": ""
            },
            "type": "choropleth"
           }
          ],
          "contour": [
           {
            "colorbar": {
             "outlinewidth": 0,
             "ticks": ""
            },
            "colorscale": [
             [
              0,
              "#0d0887"
             ],
             [
              0.1111111111111111,
              "#46039f"
             ],
             [
              0.2222222222222222,
              "#7201a8"
             ],
             [
              0.3333333333333333,
              "#9c179e"
             ],
             [
              0.4444444444444444,
              "#bd3786"
             ],
             [
              0.5555555555555556,
              "#d8576b"
             ],
             [
              0.6666666666666666,
              "#ed7953"
             ],
             [
              0.7777777777777778,
              "#fb9f3a"
             ],
             [
              0.8888888888888888,
              "#fdca26"
             ],
             [
              1,
              "#f0f921"
             ]
            ],
            "type": "contour"
           }
          ],
          "contourcarpet": [
           {
            "colorbar": {
             "outlinewidth": 0,
             "ticks": ""
            },
            "type": "contourcarpet"
           }
          ],
          "heatmap": [
           {
            "colorbar": {
             "outlinewidth": 0,
             "ticks": ""
            },
            "colorscale": [
             [
              0,
              "#0d0887"
             ],
             [
              0.1111111111111111,
              "#46039f"
             ],
             [
              0.2222222222222222,
              "#7201a8"
             ],
             [
              0.3333333333333333,
              "#9c179e"
             ],
             [
              0.4444444444444444,
              "#bd3786"
             ],
             [
              0.5555555555555556,
              "#d8576b"
             ],
             [
              0.6666666666666666,
              "#ed7953"
             ],
             [
              0.7777777777777778,
              "#fb9f3a"
             ],
             [
              0.8888888888888888,
              "#fdca26"
             ],
             [
              1,
              "#f0f921"
             ]
            ],
            "type": "heatmap"
           }
          ],
          "heatmapgl": [
           {
            "colorbar": {
             "outlinewidth": 0,
             "ticks": ""
            },
            "colorscale": [
             [
              0,
              "#0d0887"
             ],
             [
              0.1111111111111111,
              "#46039f"
             ],
             [
              0.2222222222222222,
              "#7201a8"
             ],
             [
              0.3333333333333333,
              "#9c179e"
             ],
             [
              0.4444444444444444,
              "#bd3786"
             ],
             [
              0.5555555555555556,
              "#d8576b"
             ],
             [
              0.6666666666666666,
              "#ed7953"
             ],
             [
              0.7777777777777778,
              "#fb9f3a"
             ],
             [
              0.8888888888888888,
              "#fdca26"
             ],
             [
              1,
              "#f0f921"
             ]
            ],
            "type": "heatmapgl"
           }
          ],
          "histogram": [
           {
            "marker": {
             "colorbar": {
              "outlinewidth": 0,
              "ticks": ""
             }
            },
            "type": "histogram"
           }
          ],
          "histogram2d": [
           {
            "colorbar": {
             "outlinewidth": 0,
             "ticks": ""
            },
            "colorscale": [
             [
              0,
              "#0d0887"
             ],
             [
              0.1111111111111111,
              "#46039f"
             ],
             [
              0.2222222222222222,
              "#7201a8"
             ],
             [
              0.3333333333333333,
              "#9c179e"
             ],
             [
              0.4444444444444444,
              "#bd3786"
             ],
             [
              0.5555555555555556,
              "#d8576b"
             ],
             [
              0.6666666666666666,
              "#ed7953"
             ],
             [
              0.7777777777777778,
              "#fb9f3a"
             ],
             [
              0.8888888888888888,
              "#fdca26"
             ],
             [
              1,
              "#f0f921"
             ]
            ],
            "type": "histogram2d"
           }
          ],
          "histogram2dcontour": [
           {
            "colorbar": {
             "outlinewidth": 0,
             "ticks": ""
            },
            "colorscale": [
             [
              0,
              "#0d0887"
             ],
             [
              0.1111111111111111,
              "#46039f"
             ],
             [
              0.2222222222222222,
              "#7201a8"
             ],
             [
              0.3333333333333333,
              "#9c179e"
             ],
             [
              0.4444444444444444,
              "#bd3786"
             ],
             [
              0.5555555555555556,
              "#d8576b"
             ],
             [
              0.6666666666666666,
              "#ed7953"
             ],
             [
              0.7777777777777778,
              "#fb9f3a"
             ],
             [
              0.8888888888888888,
              "#fdca26"
             ],
             [
              1,
              "#f0f921"
             ]
            ],
            "type": "histogram2dcontour"
           }
          ],
          "mesh3d": [
           {
            "colorbar": {
             "outlinewidth": 0,
             "ticks": ""
            },
            "type": "mesh3d"
           }
          ],
          "parcoords": [
           {
            "line": {
             "colorbar": {
              "outlinewidth": 0,
              "ticks": ""
             }
            },
            "type": "parcoords"
           }
          ],
          "pie": [
           {
            "automargin": true,
            "type": "pie"
           }
          ],
          "scatter": [
           {
            "marker": {
             "colorbar": {
              "outlinewidth": 0,
              "ticks": ""
             }
            },
            "type": "scatter"
           }
          ],
          "scatter3d": [
           {
            "line": {
             "colorbar": {
              "outlinewidth": 0,
              "ticks": ""
             }
            },
            "marker": {
             "colorbar": {
              "outlinewidth": 0,
              "ticks": ""
             }
            },
            "type": "scatter3d"
           }
          ],
          "scattercarpet": [
           {
            "marker": {
             "colorbar": {
              "outlinewidth": 0,
              "ticks": ""
             }
            },
            "type": "scattercarpet"
           }
          ],
          "scattergeo": [
           {
            "marker": {
             "colorbar": {
              "outlinewidth": 0,
              "ticks": ""
             }
            },
            "type": "scattergeo"
           }
          ],
          "scattergl": [
           {
            "marker": {
             "colorbar": {
              "outlinewidth": 0,
              "ticks": ""
             }
            },
            "type": "scattergl"
           }
          ],
          "scattermapbox": [
           {
            "marker": {
             "colorbar": {
              "outlinewidth": 0,
              "ticks": ""
             }
            },
            "type": "scattermapbox"
           }
          ],
          "scatterpolar": [
           {
            "marker": {
             "colorbar": {
              "outlinewidth": 0,
              "ticks": ""
             }
            },
            "type": "scatterpolar"
           }
          ],
          "scatterpolargl": [
           {
            "marker": {
             "colorbar": {
              "outlinewidth": 0,
              "ticks": ""
             }
            },
            "type": "scatterpolargl"
           }
          ],
          "scatterternary": [
           {
            "marker": {
             "colorbar": {
              "outlinewidth": 0,
              "ticks": ""
             }
            },
            "type": "scatterternary"
           }
          ],
          "surface": [
           {
            "colorbar": {
             "outlinewidth": 0,
             "ticks": ""
            },
            "colorscale": [
             [
              0,
              "#0d0887"
             ],
             [
              0.1111111111111111,
              "#46039f"
             ],
             [
              0.2222222222222222,
              "#7201a8"
             ],
             [
              0.3333333333333333,
              "#9c179e"
             ],
             [
              0.4444444444444444,
              "#bd3786"
             ],
             [
              0.5555555555555556,
              "#d8576b"
             ],
             [
              0.6666666666666666,
              "#ed7953"
             ],
             [
              0.7777777777777778,
              "#fb9f3a"
             ],
             [
              0.8888888888888888,
              "#fdca26"
             ],
             [
              1,
              "#f0f921"
             ]
            ],
            "type": "surface"
           }
          ],
          "table": [
           {
            "cells": {
             "fill": {
              "color": "#EBF0F8"
             },
             "line": {
              "color": "white"
             }
            },
            "header": {
             "fill": {
              "color": "#C8D4E3"
             },
             "line": {
              "color": "white"
             }
            },
            "type": "table"
           }
          ]
         },
         "layout": {
          "annotationdefaults": {
           "arrowcolor": "#2a3f5f",
           "arrowhead": 0,
           "arrowwidth": 1
          },
          "autotypenumbers": "strict",
          "coloraxis": {
           "colorbar": {
            "outlinewidth": 0,
            "ticks": ""
           }
          },
          "colorscale": {
           "diverging": [
            [
             0,
             "#8e0152"
            ],
            [
             0.1,
             "#c51b7d"
            ],
            [
             0.2,
             "#de77ae"
            ],
            [
             0.3,
             "#f1b6da"
            ],
            [
             0.4,
             "#fde0ef"
            ],
            [
             0.5,
             "#f7f7f7"
            ],
            [
             0.6,
             "#e6f5d0"
            ],
            [
             0.7,
             "#b8e186"
            ],
            [
             0.8,
             "#7fbc41"
            ],
            [
             0.9,
             "#4d9221"
            ],
            [
             1,
             "#276419"
            ]
           ],
           "sequential": [
            [
             0,
             "#0d0887"
            ],
            [
             0.1111111111111111,
             "#46039f"
            ],
            [
             0.2222222222222222,
             "#7201a8"
            ],
            [
             0.3333333333333333,
             "#9c179e"
            ],
            [
             0.4444444444444444,
             "#bd3786"
            ],
            [
             0.5555555555555556,
             "#d8576b"
            ],
            [
             0.6666666666666666,
             "#ed7953"
            ],
            [
             0.7777777777777778,
             "#fb9f3a"
            ],
            [
             0.8888888888888888,
             "#fdca26"
            ],
            [
             1,
             "#f0f921"
            ]
           ],
           "sequentialminus": [
            [
             0,
             "#0d0887"
            ],
            [
             0.1111111111111111,
             "#46039f"
            ],
            [
             0.2222222222222222,
             "#7201a8"
            ],
            [
             0.3333333333333333,
             "#9c179e"
            ],
            [
             0.4444444444444444,
             "#bd3786"
            ],
            [
             0.5555555555555556,
             "#d8576b"
            ],
            [
             0.6666666666666666,
             "#ed7953"
            ],
            [
             0.7777777777777778,
             "#fb9f3a"
            ],
            [
             0.8888888888888888,
             "#fdca26"
            ],
            [
             1,
             "#f0f921"
            ]
           ]
          },
          "colorway": [
           "#636efa",
           "#EF553B",
           "#00cc96",
           "#ab63fa",
           "#FFA15A",
           "#19d3f3",
           "#FF6692",
           "#B6E880",
           "#FF97FF",
           "#FECB52"
          ],
          "font": {
           "color": "#2a3f5f"
          },
          "geo": {
           "bgcolor": "white",
           "lakecolor": "white",
           "landcolor": "#E5ECF6",
           "showlakes": true,
           "showland": true,
           "subunitcolor": "white"
          },
          "hoverlabel": {
           "align": "left"
          },
          "hovermode": "closest",
          "mapbox": {
           "style": "light"
          },
          "paper_bgcolor": "white",
          "plot_bgcolor": "#E5ECF6",
          "polar": {
           "angularaxis": {
            "gridcolor": "white",
            "linecolor": "white",
            "ticks": ""
           },
           "bgcolor": "#E5ECF6",
           "radialaxis": {
            "gridcolor": "white",
            "linecolor": "white",
            "ticks": ""
           }
          },
          "scene": {
           "xaxis": {
            "backgroundcolor": "#E5ECF6",
            "gridcolor": "white",
            "gridwidth": 2,
            "linecolor": "white",
            "showbackground": true,
            "ticks": "",
            "zerolinecolor": "white"
           },
           "yaxis": {
            "backgroundcolor": "#E5ECF6",
            "gridcolor": "white",
            "gridwidth": 2,
            "linecolor": "white",
            "showbackground": true,
            "ticks": "",
            "zerolinecolor": "white"
           },
           "zaxis": {
            "backgroundcolor": "#E5ECF6",
            "gridcolor": "white",
            "gridwidth": 2,
            "linecolor": "white",
            "showbackground": true,
            "ticks": "",
            "zerolinecolor": "white"
           }
          },
          "shapedefaults": {
           "line": {
            "color": "#2a3f5f"
           }
          },
          "ternary": {
           "aaxis": {
            "gridcolor": "white",
            "linecolor": "white",
            "ticks": ""
           },
           "baxis": {
            "gridcolor": "white",
            "linecolor": "white",
            "ticks": ""
           },
           "bgcolor": "#E5ECF6",
           "caxis": {
            "gridcolor": "white",
            "linecolor": "white",
            "ticks": ""
           }
          },
          "title": {
           "x": 0.05
          },
          "xaxis": {
           "automargin": true,
           "gridcolor": "white",
           "linecolor": "white",
           "ticks": "",
           "title": {
            "standoff": 15
           },
           "zerolinecolor": "white",
           "zerolinewidth": 2
          },
          "yaxis": {
           "automargin": true,
           "gridcolor": "white",
           "linecolor": "white",
           "ticks": "",
           "title": {
            "standoff": 15
           },
           "zerolinecolor": "white",
           "zerolinewidth": 2
          }
         }
        },
        "title": {
         "text": "Top Authors Per Service"
        },
        "xaxis": {
         "anchor": "y",
         "domain": [
          0,
          1
         ],
         "title": {
          "text": "Service"
         }
        },
        "yaxis": {
         "anchor": "x",
         "domain": [
          0,
          1
         ],
         "title": {
          "text": "Commits"
         }
        }
       }
      },
      "text/html": [
       "<div>                            <div id=\"1ca3eefb-d9ab-41d9-a6eb-52bcc6c80713\" class=\"plotly-graph-div\" style=\"height:525px; width:100%;\"></div>            <script type=\"text/javascript\">                require([\"plotly\"], function(Plotly) {                    window.PLOTLYENV=window.PLOTLYENV || {};                                    if (document.getElementById(\"1ca3eefb-d9ab-41d9-a6eb-52bcc6c80713\")) {                    Plotly.newPlot(                        \"1ca3eefb-d9ab-41d9-a6eb-52bcc6c80713\",                        [{\"alignmentgroup\": \"True\", \"hovertemplate\": \"Author=ioangut<br>Service=%{x}<br>Commits=%{y}<extra></extra>\", \"legendgroup\": \"ioangut\", \"marker\": {\"color\": \"#636efa\"}, \"name\": \"ioangut\", \"offsetgroup\": \"ioangut\", \"orientation\": \"v\", \"showlegend\": true, \"textposition\": \"auto\", \"type\": \"bar\", \"x\": [\"distribution\", \"submission\", \"upload\", \"callback\", \"download\"], \"xaxis\": \"x\", \"y\": [2376, 545, 65, 7, 6], \"yaxis\": \"y\"}, {\"alignmentgroup\": \"True\", \"hovertemplate\": \"Author=Pit Humke<br>Service=%{x}<br>Commits=%{y}<extra></extra>\", \"legendgroup\": \"Pit Humke\", \"marker\": {\"color\": \"#EF553B\"}, \"name\": \"Pit Humke\", \"offsetgroup\": \"Pit Humke\", \"orientation\": \"v\", \"showlegend\": true, \"textposition\": \"auto\", \"type\": \"bar\", \"x\": [\"distribution\", \"submission\", \"upload\"], \"xaxis\": \"x\", \"y\": [2303, 411, 32], \"yaxis\": \"y\"}, {\"alignmentgroup\": \"True\", \"hovertemplate\": \"Author=Steve BE<br>Service=%{x}<br>Commits=%{y}<extra></extra>\", \"legendgroup\": \"Steve BE\", \"marker\": {\"color\": \"#00cc96\"}, \"name\": \"Steve BE\", \"offsetgroup\": \"Steve BE\", \"orientation\": \"v\", \"showlegend\": true, \"textposition\": \"auto\", \"type\": \"bar\", \"x\": [\"distribution\", \"submission\"], \"xaxis\": \"x\", \"y\": [2004, 235], \"yaxis\": \"y\"}, {\"alignmentgroup\": \"True\", \"hovertemplate\": \"Author=Frederico<br>Service=%{x}<br>Commits=%{y}<extra></extra>\", \"legendgroup\": \"Frederico\", \"marker\": {\"color\": \"#ab63fa\"}, \"name\": \"Frederico\", \"offsetgroup\": \"Frederico\", \"orientation\": \"v\", \"showlegend\": true, \"textposition\": \"auto\", \"type\": \"bar\", \"x\": [\"distribution\", \"upload\", \"download\", \"submission\"], \"xaxis\": \"x\", \"y\": [1617, 585, 25, 21], \"yaxis\": \"y\"}, {\"alignmentgroup\": \"True\", \"hovertemplate\": \"Author=Sorin Stefan Iovita<br>Service=%{x}<br>Commits=%{y}<extra></extra>\", \"legendgroup\": \"Sorin Stefan Iovita\", \"marker\": {\"color\": \"#FFA15A\"}, \"name\": \"Sorin Stefan Iovita\", \"offsetgroup\": \"Sorin Stefan Iovita\", \"orientation\": \"v\", \"showlegend\": true, \"textposition\": \"auto\", \"type\": \"bar\", \"x\": [\"distribution\", \"submission\", \"download\", \"upload\"], \"xaxis\": \"x\", \"y\": [1472, 147, 81, 40], \"yaxis\": \"y\"}, {\"alignmentgroup\": \"True\", \"hovertemplate\": \"Author=Michael Burwig<br>Service=%{x}<br>Commits=%{y}<extra></extra>\", \"legendgroup\": \"Michael Burwig\", \"marker\": {\"color\": \"#19d3f3\"}, \"name\": \"Michael Burwig\", \"offsetgroup\": \"Michael Burwig\", \"orientation\": \"v\", \"showlegend\": true, \"textposition\": \"auto\", \"type\": \"bar\", \"x\": [\"distribution\", \"submission\"], \"xaxis\": \"x\", \"y\": [1452, 386], \"yaxis\": \"y\"}, {\"alignmentgroup\": \"True\", \"hovertemplate\": \"Author=Timon G<br>Service=%{x}<br>Commits=%{y}<extra></extra>\", \"legendgroup\": \"Timon G\", \"marker\": {\"color\": \"#FF6692\"}, \"name\": \"Timon G\", \"offsetgroup\": \"Timon G\", \"orientation\": \"v\", \"showlegend\": true, \"textposition\": \"auto\", \"type\": \"bar\", \"x\": [\"distribution\", \"submission\"], \"xaxis\": \"x\", \"y\": [1340, 98], \"yaxis\": \"y\"}, {\"alignmentgroup\": \"True\", \"hovertemplate\": \"Author=Hilmar Falkenberg<br>Service=%{x}<br>Commits=%{y}<extra></extra>\", \"legendgroup\": \"Hilmar Falkenberg\", \"marker\": {\"color\": \"#B6E880\"}, \"name\": \"Hilmar Falkenberg\", \"offsetgroup\": \"Hilmar Falkenberg\", \"orientation\": \"v\", \"showlegend\": true, \"textposition\": \"auto\", \"type\": \"bar\", \"x\": [\"distribution\", \"submission\", \"upload\", \"download\", \"callback\"], \"xaxis\": \"x\", \"y\": [1280, 313, 178, 114, 39], \"yaxis\": \"y\"}, {\"alignmentgroup\": \"True\", \"hovertemplate\": \"Author=Jeremias Ro\\u0308\\u00dfler<br>Service=%{x}<br>Commits=%{y}<extra></extra>\", \"legendgroup\": \"Jeremias Ro\\u0308\\u00dfler\", \"marker\": {\"color\": \"#FF97FF\"}, \"name\": \"Jeremias Ro\\u0308\\u00dfler\", \"offsetgroup\": \"Jeremias Ro\\u0308\\u00dfler\", \"orientation\": \"v\", \"showlegend\": true, \"textposition\": \"auto\", \"type\": \"bar\", \"x\": [\"distribution\", \"submission\", \"callback\", \"upload\"], \"xaxis\": \"x\", \"y\": [1235, 73, 46, 23], \"yaxis\": \"y\"}, {\"alignmentgroup\": \"True\", \"hovertemplate\": \"Author=KevponSAP<br>Service=%{x}<br>Commits=%{y}<extra></extra>\", \"legendgroup\": \"KevponSAP\", \"marker\": {\"color\": \"#FECB52\"}, \"name\": \"KevponSAP\", \"offsetgroup\": \"KevponSAP\", \"orientation\": \"v\", \"showlegend\": true, \"textposition\": \"auto\", \"type\": \"bar\", \"x\": [\"distribution\", \"submission\", \"upload\", \"callback\"], \"xaxis\": \"x\", \"y\": [1156, 168, 8, 7], \"yaxis\": \"y\"}, {\"alignmentgroup\": \"True\", \"hovertemplate\": \"Author=EugenM-SAP<br>Service=%{x}<br>Commits=%{y}<extra></extra>\", \"legendgroup\": \"EugenM-SAP\", \"marker\": {\"color\": \"#636efa\"}, \"name\": \"EugenM-SAP\", \"offsetgroup\": \"EugenM-SAP\", \"orientation\": \"v\", \"showlegend\": true, \"textposition\": \"auto\", \"type\": \"bar\", \"x\": [\"distribution\", \"submission\", \"upload\", \"download\"], \"xaxis\": \"x\", \"y\": [1073, 406, 208, 47], \"yaxis\": \"y\"}, {\"alignmentgroup\": \"True\", \"hovertemplate\": \"Author=Eric Bratter<br>Service=%{x}<br>Commits=%{y}<extra></extra>\", \"legendgroup\": \"Eric Bratter\", \"marker\": {\"color\": \"#EF553B\"}, \"name\": \"Eric Bratter\", \"offsetgroup\": \"Eric Bratter\", \"orientation\": \"v\", \"showlegend\": true, \"textposition\": \"auto\", \"type\": \"bar\", \"x\": [\"distribution\", \"submission\", \"upload\", \"download\", \"callback\"], \"xaxis\": \"x\", \"y\": [964, 181, 145, 51, 27], \"yaxis\": \"y\"}, {\"alignmentgroup\": \"True\", \"hovertemplate\": \"Author=FelixRottler<br>Service=%{x}<br>Commits=%{y}<extra></extra>\", \"legendgroup\": \"FelixRottler\", \"marker\": {\"color\": \"#00cc96\"}, \"name\": \"FelixRottler\", \"offsetgroup\": \"FelixRottler\", \"orientation\": \"v\", \"showlegend\": true, \"textposition\": \"auto\", \"type\": \"bar\", \"x\": [\"distribution\", \"submission\", \"download\", \"callback\", \"upload\"], \"xaxis\": \"x\", \"y\": [898, 146, 139, 61, 32], \"yaxis\": \"y\"}, {\"alignmentgroup\": \"True\", \"hovertemplate\": \"Author=alexmoroianu<br>Service=%{x}<br>Commits=%{y}<extra></extra>\", \"legendgroup\": \"alexmoroianu\", \"marker\": {\"color\": \"#ab63fa\"}, \"name\": \"alexmoroianu\", \"offsetgroup\": \"alexmoroianu\", \"orientation\": \"v\", \"showlegend\": true, \"textposition\": \"auto\", \"type\": \"bar\", \"x\": [\"distribution\", \"submission\", \"upload\", \"callback\"], \"xaxis\": \"x\", \"y\": [837, 196, 80, 34], \"yaxis\": \"y\"}, {\"alignmentgroup\": \"True\", \"hovertemplate\": \"Author=Christian Kirschnick<br>Service=%{x}<br>Commits=%{y}<extra></extra>\", \"legendgroup\": \"Christian Kirschnick\", \"marker\": {\"color\": \"#FFA15A\"}, \"name\": \"Christian Kirschnick\", \"offsetgroup\": \"Christian Kirschnick\", \"orientation\": \"v\", \"showlegend\": true, \"textposition\": \"auto\", \"type\": \"bar\", \"x\": [\"distribution\", \"submission\"], \"xaxis\": \"x\", \"y\": [671, 202], \"yaxis\": \"y\"}, {\"alignmentgroup\": \"True\", \"hovertemplate\": \"Author=emmetsap<br>Service=%{x}<br>Commits=%{y}<extra></extra>\", \"legendgroup\": \"emmetsap\", \"marker\": {\"color\": \"#19d3f3\"}, \"name\": \"emmetsap\", \"offsetgroup\": \"emmetsap\", \"orientation\": \"v\", \"showlegend\": true, \"textposition\": \"auto\", \"type\": \"bar\", \"x\": [\"distribution\", \"download\", \"submission\", \"upload\"], \"xaxis\": \"x\", \"y\": [530, 50, 42, 32], \"yaxis\": \"y\"}, {\"alignmentgroup\": \"True\", \"hovertemplate\": \"Author=MKusber<br>Service=%{x}<br>Commits=%{y}<extra></extra>\", \"legendgroup\": \"MKusber\", \"marker\": {\"color\": \"#FF6692\"}, \"name\": \"MKusber\", \"offsetgroup\": \"MKusber\", \"orientation\": \"v\", \"showlegend\": true, \"textposition\": \"auto\", \"type\": \"bar\", \"x\": [\"distribution\", \"submission\"], \"xaxis\": \"x\", \"y\": [399, 90], \"yaxis\": \"y\"}, {\"alignmentgroup\": \"True\", \"hovertemplate\": \"Author=Anuj Patel<br>Service=%{x}<br>Commits=%{y}<extra></extra>\", \"legendgroup\": \"Anuj Patel\", \"marker\": {\"color\": \"#B6E880\"}, \"name\": \"Anuj Patel\", \"offsetgroup\": \"Anuj Patel\", \"orientation\": \"v\", \"showlegend\": true, \"textposition\": \"auto\", \"type\": \"bar\", \"x\": [\"distribution\", \"submission\"], \"xaxis\": \"x\", \"y\": [376, 62], \"yaxis\": \"y\"}, {\"alignmentgroup\": \"True\", \"hovertemplate\": \"Author=Michael<br>Service=%{x}<br>Commits=%{y}<extra></extra>\", \"legendgroup\": \"Michael\", \"marker\": {\"color\": \"#FF97FF\"}, \"name\": \"Michael\", \"offsetgroup\": \"Michael\", \"orientation\": \"v\", \"showlegend\": true, \"textposition\": \"auto\", \"type\": \"bar\", \"x\": [\"distribution\", \"download\", \"submission\", \"callback\", \"upload\"], \"xaxis\": \"x\", \"y\": [300, 243, 221, 121, 90], \"yaxis\": \"y\"}, {\"alignmentgroup\": \"True\", \"hovertemplate\": \"Author=Johannes Eschrig<br>Service=%{x}<br>Commits=%{y}<extra></extra>\", \"legendgroup\": \"Johannes Eschrig\", \"marker\": {\"color\": \"#FECB52\"}, \"name\": \"Johannes Eschrig\", \"offsetgroup\": \"Johannes Eschrig\", \"orientation\": \"v\", \"showlegend\": true, \"textposition\": \"auto\", \"type\": \"bar\", \"x\": [\"submission\", \"distribution\"], \"xaxis\": \"x\", \"y\": [187, 29], \"yaxis\": \"y\"}, {\"alignmentgroup\": \"True\", \"hovertemplate\": \"Author=Ole Lilienthal<br>Service=%{x}<br>Commits=%{y}<extra></extra>\", \"legendgroup\": \"Ole Lilienthal\", \"marker\": {\"color\": \"#636efa\"}, \"name\": \"Ole Lilienthal\", \"offsetgroup\": \"Ole Lilienthal\", \"orientation\": \"v\", \"showlegend\": true, \"textposition\": \"auto\", \"type\": \"bar\", \"x\": [\"submission\", \"distribution\"], \"xaxis\": \"x\", \"y\": [98, 52], \"yaxis\": \"y\"}, {\"alignmentgroup\": \"True\", \"hovertemplate\": \"Author=kilbphilippSAP<br>Service=%{x}<br>Commits=%{y}<extra></extra>\", \"legendgroup\": \"kilbphilippSAP\", \"marker\": {\"color\": \"#EF553B\"}, \"name\": \"kilbphilippSAP\", \"offsetgroup\": \"kilbphilippSAP\", \"orientation\": \"v\", \"showlegend\": true, \"textposition\": \"auto\", \"type\": \"bar\", \"x\": [\"download\", \"submission\", \"distribution\", \"callback\"], \"xaxis\": \"x\", \"y\": [85, 42, 15, 14], \"yaxis\": \"y\"}, {\"alignmentgroup\": \"True\", \"hovertemplate\": \"Author=Oliver Drotbohm<br>Service=%{x}<br>Commits=%{y}<extra></extra>\", \"legendgroup\": \"Oliver Drotbohm\", \"marker\": {\"color\": \"#00cc96\"}, \"name\": \"Oliver Drotbohm\", \"offsetgroup\": \"Oliver Drotbohm\", \"orientation\": \"v\", \"showlegend\": true, \"textposition\": \"auto\", \"type\": \"bar\", \"x\": [\"distribution\"], \"xaxis\": \"x\", \"y\": [75], \"yaxis\": \"y\"}, {\"alignmentgroup\": \"True\", \"hovertemplate\": \"Author=Bj\\u00f6rn Wilmsmann<br>Service=%{x}<br>Commits=%{y}<extra></extra>\", \"legendgroup\": \"Bj\\u00f6rn Wilmsmann\", \"marker\": {\"color\": \"#ab63fa\"}, \"name\": \"Bj\\u00f6rn Wilmsmann\", \"offsetgroup\": \"Bj\\u00f6rn Wilmsmann\", \"orientation\": \"v\", \"showlegend\": true, \"textposition\": \"auto\", \"type\": \"bar\", \"x\": [\"distribution\", \"submission\"], \"xaxis\": \"x\", \"y\": [72, 7], \"yaxis\": \"y\"}, {\"alignmentgroup\": \"True\", \"hovertemplate\": \"Author=CWA Technical User<br>Service=%{x}<br>Commits=%{y}<extra></extra>\", \"legendgroup\": \"CWA Technical User\", \"marker\": {\"color\": \"#FFA15A\"}, \"name\": \"CWA Technical User\", \"offsetgroup\": \"CWA Technical User\", \"orientation\": \"v\", \"showlegend\": true, \"textposition\": \"auto\", \"type\": \"bar\", \"x\": [\"submission\", \"distribution\"], \"xaxis\": \"x\", \"y\": [63, 8], \"yaxis\": \"y\"}, {\"alignmentgroup\": \"True\", \"hovertemplate\": \"Author=Michael Braun<br>Service=%{x}<br>Commits=%{y}<extra></extra>\", \"legendgroup\": \"Michael Braun\", \"marker\": {\"color\": \"#19d3f3\"}, \"name\": \"Michael Braun\", \"offsetgroup\": \"Michael Braun\", \"orientation\": \"v\", \"showlegend\": true, \"textposition\": \"auto\", \"type\": \"bar\", \"x\": [\"callback\", \"submission\"], \"xaxis\": \"x\", \"y\": [62, 20], \"yaxis\": \"y\"}, {\"alignmentgroup\": \"True\", \"hovertemplate\": \"Author=JonasZeitzem-sap<br>Service=%{x}<br>Commits=%{y}<extra></extra>\", \"legendgroup\": \"JonasZeitzem-sap\", \"marker\": {\"color\": \"#FF6692\"}, \"name\": \"JonasZeitzem-sap\", \"offsetgroup\": \"JonasZeitzem-sap\", \"orientation\": \"v\", \"showlegend\": true, \"textposition\": \"auto\", \"type\": \"bar\", \"x\": [\"download\", \"callback\", \"submission\"], \"xaxis\": \"x\", \"y\": [61, 27, 14], \"yaxis\": \"y\"}, {\"alignmentgroup\": \"True\", \"hovertemplate\": \"Author=Vikram Thakur<br>Service=%{x}<br>Commits=%{y}<extra></extra>\", \"legendgroup\": \"Vikram Thakur\", \"marker\": {\"color\": \"#B6E880\"}, \"name\": \"Vikram Thakur\", \"offsetgroup\": \"Vikram Thakur\", \"orientation\": \"v\", \"showlegend\": true, \"textposition\": \"auto\", \"type\": \"bar\", \"x\": [\"distribution\"], \"xaxis\": \"x\", \"y\": [55], \"yaxis\": \"y\"}, {\"alignmentgroup\": \"True\", \"hovertemplate\": \"Author=Florian Bauer<br>Service=%{x}<br>Commits=%{y}<extra></extra>\", \"legendgroup\": \"Florian Bauer\", \"marker\": {\"color\": \"#FF97FF\"}, \"name\": \"Florian Bauer\", \"offsetgroup\": \"Florian Bauer\", \"orientation\": \"v\", \"showlegend\": true, \"textposition\": \"auto\", \"type\": \"bar\", \"x\": [\"distribution\", \"submission\"], \"xaxis\": \"x\", \"y\": [52, 7], \"yaxis\": \"y\"}, {\"alignmentgroup\": \"True\", \"hovertemplate\": \"Author=Nils El-Himoud<br>Service=%{x}<br>Commits=%{y}<extra></extra>\", \"legendgroup\": \"Nils El-Himoud\", \"marker\": {\"color\": \"#FECB52\"}, \"name\": \"Nils El-Himoud\", \"offsetgroup\": \"Nils El-Himoud\", \"orientation\": \"v\", \"showlegend\": true, \"textposition\": \"auto\", \"type\": \"bar\", \"x\": [\"distribution\"], \"xaxis\": \"x\", \"y\": [35], \"yaxis\": \"y\"}, {\"alignmentgroup\": \"True\", \"hovertemplate\": \"Author=Philipp Kilb<br>Service=%{x}<br>Commits=%{y}<extra></extra>\", \"legendgroup\": \"Philipp Kilb\", \"marker\": {\"color\": \"#636efa\"}, \"name\": \"Philipp Kilb\", \"offsetgroup\": \"Philipp Kilb\", \"orientation\": \"v\", \"showlegend\": true, \"textposition\": \"auto\", \"type\": \"bar\", \"x\": [\"callback\"], \"xaxis\": \"x\", \"y\": [35], \"yaxis\": \"y\"}, {\"alignmentgroup\": \"True\", \"hovertemplate\": \"Author=Jan Wedel<br>Service=%{x}<br>Commits=%{y}<extra></extra>\", \"legendgroup\": \"Jan Wedel\", \"marker\": {\"color\": \"#EF553B\"}, \"name\": \"Jan Wedel\", \"offsetgroup\": \"Jan Wedel\", \"orientation\": \"v\", \"showlegend\": true, \"textposition\": \"auto\", \"type\": \"bar\", \"x\": [\"submission\"], \"xaxis\": \"x\", \"y\": [27], \"yaxis\": \"y\"}, {\"alignmentgroup\": \"True\", \"hovertemplate\": \"Author=Artem Prigoda<br>Service=%{x}<br>Commits=%{y}<extra></extra>\", \"legendgroup\": \"Artem Prigoda\", \"marker\": {\"color\": \"#00cc96\"}, \"name\": \"Artem Prigoda\", \"offsetgroup\": \"Artem Prigoda\", \"orientation\": \"v\", \"showlegend\": true, \"textposition\": \"auto\", \"type\": \"bar\", \"x\": [\"distribution\"], \"xaxis\": \"x\", \"y\": [27], \"yaxis\": \"y\"}, {\"alignmentgroup\": \"True\", \"hovertemplate\": \"Author=Jan Sievers<br>Service=%{x}<br>Commits=%{y}<extra></extra>\", \"legendgroup\": \"Jan Sievers\", \"marker\": {\"color\": \"#ab63fa\"}, \"name\": \"Jan Sievers\", \"offsetgroup\": \"Jan Sievers\", \"orientation\": \"v\", \"showlegend\": true, \"textposition\": \"auto\", \"type\": \"bar\", \"x\": [\"distribution\"], \"xaxis\": \"x\", \"y\": [26], \"yaxis\": \"y\"}, {\"alignmentgroup\": \"True\", \"hovertemplate\": \"Author=Eugen M<br>Service=%{x}<br>Commits=%{y}<extra></extra>\", \"legendgroup\": \"Eugen M\", \"marker\": {\"color\": \"#FFA15A\"}, \"name\": \"Eugen M\", \"offsetgroup\": \"Eugen M\", \"orientation\": \"v\", \"showlegend\": true, \"textposition\": \"auto\", \"type\": \"bar\", \"x\": [\"upload\"], \"xaxis\": \"x\", \"y\": [24], \"yaxis\": \"y\"}, {\"alignmentgroup\": \"True\", \"hovertemplate\": \"Author=Akshat Jain<br>Service=%{x}<br>Commits=%{y}<extra></extra>\", \"legendgroup\": \"Akshat Jain\", \"marker\": {\"color\": \"#19d3f3\"}, \"name\": \"Akshat Jain\", \"offsetgroup\": \"Akshat Jain\", \"orientation\": \"v\", \"showlegend\": true, \"textposition\": \"auto\", \"type\": \"bar\", \"x\": [\"distribution\"], \"xaxis\": \"x\", \"y\": [17], \"yaxis\": \"y\"}, {\"alignmentgroup\": \"True\", \"hovertemplate\": \"Author=Saschl<br>Service=%{x}<br>Commits=%{y}<extra></extra>\", \"legendgroup\": \"Saschl\", \"marker\": {\"color\": \"#FF6692\"}, \"name\": \"Saschl\", \"offsetgroup\": \"Saschl\", \"orientation\": \"v\", \"showlegend\": true, \"textposition\": \"auto\", \"type\": \"bar\", \"x\": [\"distribution\", \"submission\"], \"xaxis\": \"x\", \"y\": [15, 14], \"yaxis\": \"y\"}, {\"alignmentgroup\": \"True\", \"hovertemplate\": \"Author=Yavuz G\\u00fcnay<br>Service=%{x}<br>Commits=%{y}<extra></extra>\", \"legendgroup\": \"Yavuz G\\u00fcnay\", \"marker\": {\"color\": \"#B6E880\"}, \"name\": \"Yavuz G\\u00fcnay\", \"offsetgroup\": \"Yavuz G\\u00fcnay\", \"orientation\": \"v\", \"showlegend\": true, \"textposition\": \"auto\", \"type\": \"bar\", \"x\": [\"distribution\"], \"xaxis\": \"x\", \"y\": [15], \"yaxis\": \"y\"}, {\"alignmentgroup\": \"True\", \"hovertemplate\": \"Author=dependabot[bot]<br>Service=%{x}<br>Commits=%{y}<extra></extra>\", \"legendgroup\": \"dependabot[bot]\", \"marker\": {\"color\": \"#FF97FF\"}, \"name\": \"dependabot[bot]\", \"offsetgroup\": \"dependabot[bot]\", \"orientation\": \"v\", \"showlegend\": true, \"textposition\": \"auto\", \"type\": \"bar\", \"x\": [\"submission\", \"download\"], \"xaxis\": \"x\", \"y\": [14, 12], \"yaxis\": \"y\"}, {\"alignmentgroup\": \"True\", \"hovertemplate\": \"Author=Roberto Duessmann<br>Service=%{x}<br>Commits=%{y}<extra></extra>\", \"legendgroup\": \"Roberto Duessmann\", \"marker\": {\"color\": \"#FECB52\"}, \"name\": \"Roberto Duessmann\", \"offsetgroup\": \"Roberto Duessmann\", \"orientation\": \"v\", \"showlegend\": true, \"textposition\": \"auto\", \"type\": \"bar\", \"x\": [\"submission\"], \"xaxis\": \"x\", \"y\": [14], \"yaxis\": \"y\"}, {\"alignmentgroup\": \"True\", \"hovertemplate\": \"Author=Kevin Pontes<br>Service=%{x}<br>Commits=%{y}<extra></extra>\", \"legendgroup\": \"Kevin Pontes\", \"marker\": {\"color\": \"#636efa\"}, \"name\": \"Kevin Pontes\", \"offsetgroup\": \"Kevin Pontes\", \"orientation\": \"v\", \"showlegend\": true, \"textposition\": \"auto\", \"type\": \"bar\", \"x\": [\"callback\"], \"xaxis\": \"x\", \"y\": [13], \"yaxis\": \"y\"}, {\"alignmentgroup\": \"True\", \"hovertemplate\": \"Author=Max Eisner<br>Service=%{x}<br>Commits=%{y}<extra></extra>\", \"legendgroup\": \"Max Eisner\", \"marker\": {\"color\": \"#EF553B\"}, \"name\": \"Max Eisner\", \"offsetgroup\": \"Max Eisner\", \"orientation\": \"v\", \"showlegend\": true, \"textposition\": \"auto\", \"type\": \"bar\", \"x\": [\"distribution\"], \"xaxis\": \"x\", \"y\": [9], \"yaxis\": \"y\"}, {\"alignmentgroup\": \"True\", \"hovertemplate\": \"Author=Alexander<br>Service=%{x}<br>Commits=%{y}<extra></extra>\", \"legendgroup\": \"Alexander\", \"marker\": {\"color\": \"#00cc96\"}, \"name\": \"Alexander\", \"offsetgroup\": \"Alexander\", \"orientation\": \"v\", \"showlegend\": true, \"textposition\": \"auto\", \"type\": \"bar\", \"x\": [\"distribution\"], \"xaxis\": \"x\", \"y\": [8], \"yaxis\": \"y\"}, {\"alignmentgroup\": \"True\", \"hovertemplate\": \"Author=Alice Bilc<br>Service=%{x}<br>Commits=%{y}<extra></extra>\", \"legendgroup\": \"Alice Bilc\", \"marker\": {\"color\": \"#ab63fa\"}, \"name\": \"Alice Bilc\", \"offsetgroup\": \"Alice Bilc\", \"orientation\": \"v\", \"showlegend\": true, \"textposition\": \"auto\", \"type\": \"bar\", \"x\": [\"distribution\"], \"xaxis\": \"x\", \"y\": [8], \"yaxis\": \"y\"}, {\"alignmentgroup\": \"True\", \"hovertemplate\": \"Author=felixbohnacker<br>Service=%{x}<br>Commits=%{y}<extra></extra>\", \"legendgroup\": \"felixbohnacker\", \"marker\": {\"color\": \"#FFA15A\"}, \"name\": \"felixbohnacker\", \"offsetgroup\": \"felixbohnacker\", \"orientation\": \"v\", \"showlegend\": true, \"textposition\": \"auto\", \"type\": \"bar\", \"x\": [\"submission\"], \"xaxis\": \"x\", \"y\": [7], \"yaxis\": \"y\"}, {\"alignmentgroup\": \"True\", \"hovertemplate\": \"Author=Eric Spiegelberg<br>Service=%{x}<br>Commits=%{y}<extra></extra>\", \"legendgroup\": \"Eric Spiegelberg\", \"marker\": {\"color\": \"#19d3f3\"}, \"name\": \"Eric Spiegelberg\", \"offsetgroup\": \"Eric Spiegelberg\", \"orientation\": \"v\", \"showlegend\": true, \"textposition\": \"auto\", \"type\": \"bar\", \"x\": [\"submission\"], \"xaxis\": \"x\", \"y\": [7], \"yaxis\": \"y\"}, {\"alignmentgroup\": \"True\", \"hovertemplate\": \"Author=Stefan Weil<br>Service=%{x}<br>Commits=%{y}<extra></extra>\", \"legendgroup\": \"Stefan Weil\", \"marker\": {\"color\": \"#FF6692\"}, \"name\": \"Stefan Weil\", \"offsetgroup\": \"Stefan Weil\", \"orientation\": \"v\", \"showlegend\": true, \"textposition\": \"auto\", \"type\": \"bar\", \"x\": [\"submission\"], \"xaxis\": \"x\", \"y\": [6], \"yaxis\": \"y\"}, {\"alignmentgroup\": \"True\", \"hovertemplate\": \"Author=Maximilian Lenkeit<br>Service=%{x}<br>Commits=%{y}<extra></extra>\", \"legendgroup\": \"Maximilian Lenkeit\", \"marker\": {\"color\": \"#B6E880\"}, \"name\": \"Maximilian Lenkeit\", \"offsetgroup\": \"Maximilian Lenkeit\", \"orientation\": \"v\", \"showlegend\": true, \"textposition\": \"auto\", \"type\": \"bar\", \"x\": [\"download\"], \"xaxis\": \"x\", \"y\": [6], \"yaxis\": \"y\"}],                        {\"barmode\": \"relative\", \"legend\": {\"title\": {\"text\": \"Author\"}, \"tracegroupgap\": 0}, \"template\": {\"data\": {\"bar\": [{\"error_x\": {\"color\": \"#2a3f5f\"}, \"error_y\": {\"color\": \"#2a3f5f\"}, \"marker\": {\"line\": {\"color\": \"#E5ECF6\", \"width\": 0.5}}, \"type\": \"bar\"}], \"barpolar\": [{\"marker\": {\"line\": {\"color\": \"#E5ECF6\", \"width\": 0.5}}, \"type\": \"barpolar\"}], \"carpet\": [{\"aaxis\": {\"endlinecolor\": \"#2a3f5f\", \"gridcolor\": \"white\", \"linecolor\": \"white\", \"minorgridcolor\": \"white\", \"startlinecolor\": \"#2a3f5f\"}, \"baxis\": {\"endlinecolor\": \"#2a3f5f\", \"gridcolor\": \"white\", \"linecolor\": \"white\", \"minorgridcolor\": \"white\", \"startlinecolor\": \"#2a3f5f\"}, \"type\": \"carpet\"}], \"choropleth\": [{\"colorbar\": {\"outlinewidth\": 0, \"ticks\": \"\"}, \"type\": \"choropleth\"}], \"contour\": [{\"colorbar\": {\"outlinewidth\": 0, \"ticks\": \"\"}, \"colorscale\": [[0.0, \"#0d0887\"], [0.1111111111111111, \"#46039f\"], [0.2222222222222222, \"#7201a8\"], [0.3333333333333333, \"#9c179e\"], [0.4444444444444444, \"#bd3786\"], [0.5555555555555556, \"#d8576b\"], [0.6666666666666666, \"#ed7953\"], [0.7777777777777778, \"#fb9f3a\"], [0.8888888888888888, \"#fdca26\"], [1.0, \"#f0f921\"]], \"type\": \"contour\"}], \"contourcarpet\": [{\"colorbar\": {\"outlinewidth\": 0, \"ticks\": \"\"}, \"type\": \"contourcarpet\"}], \"heatmap\": [{\"colorbar\": {\"outlinewidth\": 0, \"ticks\": \"\"}, \"colorscale\": [[0.0, \"#0d0887\"], [0.1111111111111111, \"#46039f\"], [0.2222222222222222, \"#7201a8\"], [0.3333333333333333, \"#9c179e\"], [0.4444444444444444, \"#bd3786\"], [0.5555555555555556, \"#d8576b\"], [0.6666666666666666, \"#ed7953\"], [0.7777777777777778, \"#fb9f3a\"], [0.8888888888888888, \"#fdca26\"], [1.0, \"#f0f921\"]], \"type\": \"heatmap\"}], \"heatmapgl\": [{\"colorbar\": {\"outlinewidth\": 0, \"ticks\": \"\"}, \"colorscale\": [[0.0, \"#0d0887\"], [0.1111111111111111, \"#46039f\"], [0.2222222222222222, \"#7201a8\"], [0.3333333333333333, \"#9c179e\"], [0.4444444444444444, \"#bd3786\"], [0.5555555555555556, \"#d8576b\"], [0.6666666666666666, \"#ed7953\"], [0.7777777777777778, \"#fb9f3a\"], [0.8888888888888888, \"#fdca26\"], [1.0, \"#f0f921\"]], \"type\": \"heatmapgl\"}], \"histogram\": [{\"marker\": {\"colorbar\": {\"outlinewidth\": 0, \"ticks\": \"\"}}, \"type\": \"histogram\"}], \"histogram2d\": [{\"colorbar\": {\"outlinewidth\": 0, \"ticks\": \"\"}, \"colorscale\": [[0.0, \"#0d0887\"], [0.1111111111111111, \"#46039f\"], [0.2222222222222222, \"#7201a8\"], [0.3333333333333333, \"#9c179e\"], [0.4444444444444444, \"#bd3786\"], [0.5555555555555556, \"#d8576b\"], [0.6666666666666666, \"#ed7953\"], [0.7777777777777778, \"#fb9f3a\"], [0.8888888888888888, \"#fdca26\"], [1.0, \"#f0f921\"]], \"type\": \"histogram2d\"}], \"histogram2dcontour\": [{\"colorbar\": {\"outlinewidth\": 0, \"ticks\": \"\"}, \"colorscale\": [[0.0, \"#0d0887\"], [0.1111111111111111, \"#46039f\"], [0.2222222222222222, \"#7201a8\"], [0.3333333333333333, \"#9c179e\"], [0.4444444444444444, \"#bd3786\"], [0.5555555555555556, \"#d8576b\"], [0.6666666666666666, \"#ed7953\"], [0.7777777777777778, \"#fb9f3a\"], [0.8888888888888888, \"#fdca26\"], [1.0, \"#f0f921\"]], \"type\": \"histogram2dcontour\"}], \"mesh3d\": [{\"colorbar\": {\"outlinewidth\": 0, \"ticks\": \"\"}, \"type\": \"mesh3d\"}], \"parcoords\": [{\"line\": {\"colorbar\": {\"outlinewidth\": 0, \"ticks\": \"\"}}, \"type\": \"parcoords\"}], \"pie\": [{\"automargin\": true, \"type\": \"pie\"}], \"scatter\": [{\"marker\": {\"colorbar\": {\"outlinewidth\": 0, \"ticks\": \"\"}}, \"type\": \"scatter\"}], \"scatter3d\": [{\"line\": {\"colorbar\": {\"outlinewidth\": 0, \"ticks\": \"\"}}, \"marker\": {\"colorbar\": {\"outlinewidth\": 0, \"ticks\": \"\"}}, \"type\": \"scatter3d\"}], \"scattercarpet\": [{\"marker\": {\"colorbar\": {\"outlinewidth\": 0, \"ticks\": \"\"}}, \"type\": \"scattercarpet\"}], \"scattergeo\": [{\"marker\": {\"colorbar\": {\"outlinewidth\": 0, \"ticks\": \"\"}}, \"type\": \"scattergeo\"}], \"scattergl\": [{\"marker\": {\"colorbar\": {\"outlinewidth\": 0, \"ticks\": \"\"}}, \"type\": \"scattergl\"}], \"scattermapbox\": [{\"marker\": {\"colorbar\": {\"outlinewidth\": 0, \"ticks\": \"\"}}, \"type\": \"scattermapbox\"}], \"scatterpolar\": [{\"marker\": {\"colorbar\": {\"outlinewidth\": 0, \"ticks\": \"\"}}, \"type\": \"scatterpolar\"}], \"scatterpolargl\": [{\"marker\": {\"colorbar\": {\"outlinewidth\": 0, \"ticks\": \"\"}}, \"type\": \"scatterpolargl\"}], \"scatterternary\": [{\"marker\": {\"colorbar\": {\"outlinewidth\": 0, \"ticks\": \"\"}}, \"type\": \"scatterternary\"}], \"surface\": [{\"colorbar\": {\"outlinewidth\": 0, \"ticks\": \"\"}, \"colorscale\": [[0.0, \"#0d0887\"], [0.1111111111111111, \"#46039f\"], [0.2222222222222222, \"#7201a8\"], [0.3333333333333333, \"#9c179e\"], [0.4444444444444444, \"#bd3786\"], [0.5555555555555556, \"#d8576b\"], [0.6666666666666666, \"#ed7953\"], [0.7777777777777778, \"#fb9f3a\"], [0.8888888888888888, \"#fdca26\"], [1.0, \"#f0f921\"]], \"type\": \"surface\"}], \"table\": [{\"cells\": {\"fill\": {\"color\": \"#EBF0F8\"}, \"line\": {\"color\": \"white\"}}, \"header\": {\"fill\": {\"color\": \"#C8D4E3\"}, \"line\": {\"color\": \"white\"}}, \"type\": \"table\"}]}, \"layout\": {\"annotationdefaults\": {\"arrowcolor\": \"#2a3f5f\", \"arrowhead\": 0, \"arrowwidth\": 1}, \"autotypenumbers\": \"strict\", \"coloraxis\": {\"colorbar\": {\"outlinewidth\": 0, \"ticks\": \"\"}}, \"colorscale\": {\"diverging\": [[0, \"#8e0152\"], [0.1, \"#c51b7d\"], [0.2, \"#de77ae\"], [0.3, \"#f1b6da\"], [0.4, \"#fde0ef\"], [0.5, \"#f7f7f7\"], [0.6, \"#e6f5d0\"], [0.7, \"#b8e186\"], [0.8, \"#7fbc41\"], [0.9, \"#4d9221\"], [1, \"#276419\"]], \"sequential\": [[0.0, \"#0d0887\"], [0.1111111111111111, \"#46039f\"], [0.2222222222222222, \"#7201a8\"], [0.3333333333333333, \"#9c179e\"], [0.4444444444444444, \"#bd3786\"], [0.5555555555555556, \"#d8576b\"], [0.6666666666666666, \"#ed7953\"], [0.7777777777777778, \"#fb9f3a\"], [0.8888888888888888, \"#fdca26\"], [1.0, \"#f0f921\"]], \"sequentialminus\": [[0.0, \"#0d0887\"], [0.1111111111111111, \"#46039f\"], [0.2222222222222222, \"#7201a8\"], [0.3333333333333333, \"#9c179e\"], [0.4444444444444444, \"#bd3786\"], [0.5555555555555556, \"#d8576b\"], [0.6666666666666666, \"#ed7953\"], [0.7777777777777778, \"#fb9f3a\"], [0.8888888888888888, \"#fdca26\"], [1.0, \"#f0f921\"]]}, \"colorway\": [\"#636efa\", \"#EF553B\", \"#00cc96\", \"#ab63fa\", \"#FFA15A\", \"#19d3f3\", \"#FF6692\", \"#B6E880\", \"#FF97FF\", \"#FECB52\"], \"font\": {\"color\": \"#2a3f5f\"}, \"geo\": {\"bgcolor\": \"white\", \"lakecolor\": \"white\", \"landcolor\": \"#E5ECF6\", \"showlakes\": true, \"showland\": true, \"subunitcolor\": \"white\"}, \"hoverlabel\": {\"align\": \"left\"}, \"hovermode\": \"closest\", \"mapbox\": {\"style\": \"light\"}, \"paper_bgcolor\": \"white\", \"plot_bgcolor\": \"#E5ECF6\", \"polar\": {\"angularaxis\": {\"gridcolor\": \"white\", \"linecolor\": \"white\", \"ticks\": \"\"}, \"bgcolor\": \"#E5ECF6\", \"radialaxis\": {\"gridcolor\": \"white\", \"linecolor\": \"white\", \"ticks\": \"\"}}, \"scene\": {\"xaxis\": {\"backgroundcolor\": \"#E5ECF6\", \"gridcolor\": \"white\", \"gridwidth\": 2, \"linecolor\": \"white\", \"showbackground\": true, \"ticks\": \"\", \"zerolinecolor\": \"white\"}, \"yaxis\": {\"backgroundcolor\": \"#E5ECF6\", \"gridcolor\": \"white\", \"gridwidth\": 2, \"linecolor\": \"white\", \"showbackground\": true, \"ticks\": \"\", \"zerolinecolor\": \"white\"}, \"zaxis\": {\"backgroundcolor\": \"#E5ECF6\", \"gridcolor\": \"white\", \"gridwidth\": 2, \"linecolor\": \"white\", \"showbackground\": true, \"ticks\": \"\", \"zerolinecolor\": \"white\"}}, \"shapedefaults\": {\"line\": {\"color\": \"#2a3f5f\"}}, \"ternary\": {\"aaxis\": {\"gridcolor\": \"white\", \"linecolor\": \"white\", \"ticks\": \"\"}, \"baxis\": {\"gridcolor\": \"white\", \"linecolor\": \"white\", \"ticks\": \"\"}, \"bgcolor\": \"#E5ECF6\", \"caxis\": {\"gridcolor\": \"white\", \"linecolor\": \"white\", \"ticks\": \"\"}}, \"title\": {\"x\": 0.05}, \"xaxis\": {\"automargin\": true, \"gridcolor\": \"white\", \"linecolor\": \"white\", \"ticks\": \"\", \"title\": {\"standoff\": 15}, \"zerolinecolor\": \"white\", \"zerolinewidth\": 2}, \"yaxis\": {\"automargin\": true, \"gridcolor\": \"white\", \"linecolor\": \"white\", \"ticks\": \"\", \"title\": {\"standoff\": 15}, \"zerolinecolor\": \"white\", \"zerolinewidth\": 2}}}, \"title\": {\"text\": \"Top Authors Per Service\"}, \"xaxis\": {\"anchor\": \"y\", \"domain\": [0.0, 1.0], \"title\": {\"text\": \"Service\"}}, \"yaxis\": {\"anchor\": \"x\", \"domain\": [0.0, 1.0], \"title\": {\"text\": \"Commits\"}}},                        {\"responsive\": true}                    ).then(function(){\n",
       "                            \n",
       "var gd = document.getElementById('1ca3eefb-d9ab-41d9-a6eb-52bcc6c80713');\n",
       "var x = new MutationObserver(function (mutations, observer) {{\n",
       "        var display = window.getComputedStyle(gd).display;\n",
       "        if (!display || display === 'none') {{\n",
       "            console.log([gd, 'removed!']);\n",
       "            Plotly.purge(gd);\n",
       "            observer.disconnect();\n",
       "        }}\n",
       "}});\n",
       "\n",
       "// Listen for the removal of the full notebook cells\n",
       "var notebookContainer = gd.closest('#notebook-container');\n",
       "if (notebookContainer) {{\n",
       "    x.observe(notebookContainer, {childList: true});\n",
       "}}\n",
       "\n",
       "// Listen for the clearing of the current output cell\n",
       "var outputEl = gd.closest('.output');\n",
       "if (outputEl) {{\n",
       "    x.observe(outputEl, {childList: true});\n",
       "}}\n",
       "\n",
       "                        })                };                });            </script>        </div>"
      ]
     },
     "metadata": {},
     "output_type": "display_data"
    }
   ],
   "source": [
    "authorsPerService = %cypher MATCH \\\n",
    "          (author:Author)-[:COMMITTED]->(commit:Commit)-[:CONTAINS_CHANGE]->()-[:MODIFIES]->(sourceFile:File), \\\n",
    "          (service:Service:Artifact)-[:CONTAINS*]->(type:Type), \\\n",
    "          (type)-[:HAS_SOURCE]->(sourceFile) \\\n",
    "        WHERE NOT \\\n",
    "          commit:Merge \\\n",
    "        RETURN \\\n",
    "          service.name as Service, author.name as Author, count(commit) as Commits \\\n",
    "        ORDER BY \\\n",
    "          Commits desc \n",
    "df = authorsPerService.get_dataframe()\n",
    "fig = px.bar(df, x=\"Service\", y=\"Commits\", color=\"Author\", title=\"Top Authors Per Service\")\n",
    "fig.show()    \n"
   ]
  }
 ],
 "metadata": {
  "kernelspec": {
   "display_name": "Python 3",
   "language": "python",
   "name": "python3"
  },
  "language_info": {
   "codemirror_mode": {
    "name": "ipython",
    "version": 3
   },
   "file_extension": ".py",
   "mimetype": "text/x-python",
   "name": "python",
   "nbconvert_exporter": "python",
   "pygments_lexer": "ipython3",
   "version": "3.8.6"
  },
  "toc": {
   "base_numbering": 1,
   "nav_menu": {},
   "number_sections": true,
   "sideBar": true,
   "skip_h1_title": false,
   "title_cell": "Table of Contents",
   "title_sidebar": "Contents",
   "toc_cell": false,
   "toc_position": {},
   "toc_section_display": true,
   "toc_window_display": true
  }
 },
 "nbformat": 4,
 "nbformat_minor": 4
}
